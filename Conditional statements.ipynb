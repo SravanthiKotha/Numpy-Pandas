{
 "cells": [
  {
   "cell_type": "code",
   "execution_count": 3,
   "id": "f7e8ec01",
   "metadata": {},
   "outputs": [
    {
     "name": "stdout",
     "output_type": "stream",
     "text": [
      "Bye\n"
     ]
    }
   ],
   "source": [
    "a = False\n",
    "\n",
    "if(a):\n",
    "    print(\"Hello\")\n",
    "else:\n",
    "    print(\"Bye\")"
   ]
  },
  {
   "cell_type": "code",
   "execution_count": 5,
   "id": "70eb1bed",
   "metadata": {},
   "outputs": [
    {
     "name": "stdout",
     "output_type": "stream",
     "text": [
      "Enter a String:\n",
      "hai\n",
      "user entered : hai\n"
     ]
    }
   ],
   "source": [
    "value = input(\"Enter a String:\\n\")\n",
    "\n",
    "print(\"user entered : \"+value)"
   ]
  },
  {
   "cell_type": "code",
   "execution_count": 38,
   "id": "3511a0a4",
   "metadata": {},
   "outputs": [
    {
     "name": "stdout",
     "output_type": "stream",
     "text": [
      "enter a integer: 8\n",
      "Given number is an even number\n"
     ]
    }
   ],
   "source": [
    "\n",
    "    num = int(input(\"enter a integer: \").strip())\n",
    "    \n",
    "    if(num%2 == 0):\n",
    "        print(\"Given number is an even number\")\n",
    "        \n",
    "    else:\n",
    "        print(\"Given number is and odd number\")\n"
   ]
  },
  {
   "cell_type": "markdown",
   "id": "0dfa81be",
   "metadata": {},
   "source": [
    "## Boolean values are also represents as 0(False) or 1 (True) / other than '1' all are flase\n",
    "\n",
    "\n"
   ]
  },
  {
   "cell_type": "code",
   "execution_count": 44,
   "id": "9f5acdd3",
   "metadata": {},
   "outputs": [
    {
     "name": "stdout",
     "output_type": "stream",
     "text": [
      "in if block\n"
     ]
    }
   ],
   "source": [
    "if(3-5):\n",
    "    print (\"in if block\")\n",
    "else:\n",
    "    print(\"in else block\")"
   ]
  },
  {
   "cell_type": "code",
   "execution_count": 46,
   "id": "026bfc90",
   "metadata": {},
   "outputs": [
    {
     "data": {
      "text/plain": [
       "2"
      ]
     },
     "execution_count": 46,
     "metadata": {},
     "output_type": "execute_result"
    }
   ],
   "source": [
    "s = \"how are you\"\n",
    "\n",
    "s.count()\n"
   ]
  },
  {
   "cell_type": "code",
   "execution_count": 62,
   "id": "9a3a0af3",
   "metadata": {},
   "outputs": [
    {
     "name": "stdout",
     "output_type": "stream",
     "text": [
      "[1, 5, 3, 7, 9]\n"
     ]
    }
   ],
   "source": [
    "mylist1 = [1,5,3,78,7]\n",
    "\n",
    "if(9 not in mylist1):\n",
    "    mylist1.append(9)\n",
    "if(78 in mylist1):\n",
    "    mylist1.pop(mylist1.index(78))\n",
    "\n",
    "    \n",
    "print(mylist1)"
   ]
  },
  {
   "cell_type": "code",
   "execution_count": 73,
   "id": "1a4cd5cc",
   "metadata": {},
   "outputs": [
    {
     "name": "stdout",
     "output_type": "stream",
     "text": [
      "Enter the marks scored by the student : 8\n",
      "The given student Failed!!!!\n"
     ]
    }
   ],
   "source": [
    "cutoff_Score = 35\n",
    "\n",
    "marks_Scored = int(input(\"Enter the marks scored by the student : \").strip())\n",
    "\n",
    "if(marks_Scored >= cutoff_Score):\n",
    "    print(\"The given student got passed!!!!\")\n",
    "else:\n",
    "    print(\"The given student Failed!!!!\")"
   ]
  },
  {
   "cell_type": "code",
   "execution_count": 74,
   "id": "3c7ef659",
   "metadata": {},
   "outputs": [
    {
     "name": "stdout",
     "output_type": "stream",
     "text": [
      "Enter the marks scored by the student : 90\n",
      "The given student got passed!!!!\n",
      "The given student got Distinction!!!\n"
     ]
    }
   ],
   "source": [
    "cutoff_Score = 35\n",
    "distinction_Score = 75\n",
    "\n",
    "marks_Scored = int(input(\"Enter the marks scored by the student : \").strip())\n",
    "\n",
    "if(marks_Scored >= cutoff_Score):\n",
    "    print(\"The given student got passed!!!!\")\n",
    "    if(marks_Scored >= distinction_Score):\n",
    "        print(\"The given student got Distinction!!!\")        \n",
    "else:\n",
    "    print(\"The given student Failed!!!!\")"
   ]
  },
  {
   "cell_type": "code",
   "execution_count": 72,
   "id": "1a31c739",
   "metadata": {},
   "outputs": [
    {
     "name": "stdout",
     "output_type": "stream",
     "text": [
      "Enter the marks scored by the student : 90\n",
      "The given student got Distinction!!!\n"
     ]
    }
   ],
   "source": [
    "cutoff_Score = 35\n",
    "distinction_Score = 75\n",
    "\n",
    "marks_Scored = int(input(\"Enter the marks scored by the student : \").strip())\n",
    "\n",
    "if(marks_Scored < cutoff_Score):\n",
    "    print(\"The given student Failed!!!!\")   \n",
    "elif(marks_Scored >= distinction_Score):\n",
    "    print(\"The given student got Distinction!!!\")\n",
    "else:\n",
    "     print(\"The given student got passed!!!!\")"
   ]
  },
  {
   "cell_type": "code",
   "execution_count": 93,
   "id": "a3c6dc85",
   "metadata": {},
   "outputs": [
    {
     "name": "stdout",
     "output_type": "stream",
     "text": [
      "enter a char : U\n",
      "The given char is u and is a vowel.\n"
     ]
    }
   ],
   "source": [
    "#Checking for a given char is a vowel or not\n",
    "\n",
    "char1 = str(input(\"enter a char : \").strip().lower())\n",
    "\n",
    "vowels = [\"a\",\"e\",\"i\",\"o\",\"u\"]\n",
    "\n",
    "if(len(char1)!= 1):\n",
    "    print(\"The given input is not a char!!!\")\n",
    "elif(char1 in vowels):\n",
    "    print(\"The given char is {} and is a vowel.\".format(char1))\n",
    "else:\n",
    "    print(\"The given char is {} and is not a Vowel.\".format(char1))"
   ]
  },
  {
   "cell_type": "code",
   "execution_count": 106,
   "id": "49f2ea0d",
   "metadata": {},
   "outputs": [
    {
     "name": "stdout",
     "output_type": "stream",
     "text": [
      "Even numbers till 100 are:, 2, 4, 6, 8, 10, 12, 14, 16, 18, 20, 22, 24, 26, 28, 30, 32, 34, 36, 38, 40, 42, 44, 46, 48, 50, 52, 54, 56, 58, 60, 62, 64, 66, 68, 70, 72, 74, 76, 78, 80, 82, 84, 86, 88, 90, 92, 94, 96, 98, 100\n"
     ]
    }
   ],
   "source": [
    "# print all evens till 100\n",
    "\n",
    "num = 1\n",
    "temp = ''\n",
    "while(num<=100):\n",
    "    if(num%2==0):\n",
    "        temp = temp + \", \"+str(num)\n",
    "    num = num+1\n",
    "    \n",
    "print(\"Even numbers till 100 are:\" + temp)\n",
    "    \n",
    "    "
   ]
  },
  {
   "cell_type": "code",
   "execution_count": null,
   "id": "bee427f2",
   "metadata": {},
   "outputs": [],
   "source": []
  },
  {
   "cell_type": "code",
   "execution_count": null,
   "id": "abbd3636",
   "metadata": {},
   "outputs": [],
   "source": []
  }
 ],
 "metadata": {
  "kernelspec": {
   "display_name": "Python 3 (ipykernel)",
   "language": "python",
   "name": "python3"
  },
  "language_info": {
   "codemirror_mode": {
    "name": "ipython",
    "version": 3
   },
   "file_extension": ".py",
   "mimetype": "text/x-python",
   "name": "python",
   "nbconvert_exporter": "python",
   "pygments_lexer": "ipython3",
   "version": "3.9.12"
  }
 },
 "nbformat": 4,
 "nbformat_minor": 5
}
