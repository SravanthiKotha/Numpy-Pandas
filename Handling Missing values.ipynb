{
 "cells": [
  {
   "cell_type": "code",
   "execution_count": 402,
   "id": "7c2f4f06",
   "metadata": {},
   "outputs": [],
   "source": [
    "import pandas as pd\n",
    "\n",
    "import seaborn as sns"
   ]
  },
  {
   "cell_type": "code",
   "execution_count": 403,
   "id": "174297c3",
   "metadata": {},
   "outputs": [
    {
     "data": {
      "text/plain": [
       "['anagrams',\n",
       " 'anscombe',\n",
       " 'attention',\n",
       " 'brain_networks',\n",
       " 'car_crashes',\n",
       " 'diamonds',\n",
       " 'dots',\n",
       " 'dowjones',\n",
       " 'exercise',\n",
       " 'flights',\n",
       " 'fmri',\n",
       " 'geyser',\n",
       " 'glue',\n",
       " 'healthexp',\n",
       " 'iris',\n",
       " 'mpg',\n",
       " 'penguins',\n",
       " 'planets',\n",
       " 'seaice',\n",
       " 'taxis',\n",
       " 'tips',\n",
       " 'titanic']"
      ]
     },
     "execution_count": 403,
     "metadata": {},
     "output_type": "execute_result"
    }
   ],
   "source": [
    "sns.get_dataset_names()"
   ]
  },
  {
   "cell_type": "code",
   "execution_count": 404,
   "id": "98462f72",
   "metadata": {},
   "outputs": [
    {
     "data": {
      "text/html": [
       "<div>\n",
       "<style scoped>\n",
       "    .dataframe tbody tr th:only-of-type {\n",
       "        vertical-align: middle;\n",
       "    }\n",
       "\n",
       "    .dataframe tbody tr th {\n",
       "        vertical-align: top;\n",
       "    }\n",
       "\n",
       "    .dataframe thead th {\n",
       "        text-align: right;\n",
       "    }\n",
       "</style>\n",
       "<table border=\"1\" class=\"dataframe\">\n",
       "  <thead>\n",
       "    <tr style=\"text-align: right;\">\n",
       "      <th></th>\n",
       "      <th>Product</th>\n",
       "      <th>Rating</th>\n",
       "      <th>MRP</th>\n",
       "      <th>Feature</th>\n",
       "    </tr>\n",
       "  </thead>\n",
       "  <tbody>\n",
       "    <tr>\n",
       "      <th>979</th>\n",
       "      <td>ASUS Core i7 11th Gen - (16 GB/512 GB SSD/Wind...</td>\n",
       "      <td>NaN</td>\n",
       "      <td>₹1,12,097</td>\n",
       "      <td>Intel Core i7 Processor (11th Gen)16 GB DDR4 R...</td>\n",
       "    </tr>\n",
       "    <tr>\n",
       "      <th>980</th>\n",
       "      <td>ASUS Ryzen 7 Dual Core 10th Gen - (16 GB/512 G...</td>\n",
       "      <td>NaN</td>\n",
       "      <td>₹97,890</td>\n",
       "      <td>AMD Ryzen 7 Dual Core Processor (10th Gen)16 G...</td>\n",
       "    </tr>\n",
       "    <tr>\n",
       "      <th>981</th>\n",
       "      <td>Lenovo Ideapad Slim 5i Core i5 11th Gen - (16 ...</td>\n",
       "      <td>4.4</td>\n",
       "      <td>₹68,390</td>\n",
       "      <td>Intel Core i5 Processor (11th Gen)16 GB DDR4 R...</td>\n",
       "    </tr>\n",
       "    <tr>\n",
       "      <th>982</th>\n",
       "      <td>Lenovo Ryzen 7 Octa Core AMD R7-5800H - (16 GB...</td>\n",
       "      <td>NaN</td>\n",
       "      <td>₹1,04,899</td>\n",
       "      <td>AMD Ryzen 7 Octa Core Processor16 GB DDR4 RAM6...</td>\n",
       "    </tr>\n",
       "    <tr>\n",
       "      <th>983</th>\n",
       "      <td>Lenovo ThinkPad E15 Core i5 11th Gen - (8 GB/5...</td>\n",
       "      <td>4.2</td>\n",
       "      <td>₹75,779</td>\n",
       "      <td>Intel Core i5 Processor (11th Gen)8 GB DDR4 RA...</td>\n",
       "    </tr>\n",
       "  </tbody>\n",
       "</table>\n",
       "</div>"
      ],
      "text/plain": [
       "                                               Product  Rating        MRP  \\\n",
       "979  ASUS Core i7 11th Gen - (16 GB/512 GB SSD/Wind...     NaN  ₹1,12,097   \n",
       "980  ASUS Ryzen 7 Dual Core 10th Gen - (16 GB/512 G...     NaN    ₹97,890   \n",
       "981  Lenovo Ideapad Slim 5i Core i5 11th Gen - (16 ...     4.4    ₹68,390   \n",
       "982  Lenovo Ryzen 7 Octa Core AMD R7-5800H - (16 GB...     NaN  ₹1,04,899   \n",
       "983  Lenovo ThinkPad E15 Core i5 11th Gen - (8 GB/5...     4.2    ₹75,779   \n",
       "\n",
       "                                               Feature  \n",
       "979  Intel Core i7 Processor (11th Gen)16 GB DDR4 R...  \n",
       "980  AMD Ryzen 7 Dual Core Processor (10th Gen)16 G...  \n",
       "981  Intel Core i5 Processor (11th Gen)16 GB DDR4 R...  \n",
       "982  AMD Ryzen 7 Octa Core Processor16 GB DDR4 RAM6...  \n",
       "983  Intel Core i5 Processor (11th Gen)8 GB DDR4 RA...  "
      ]
     },
     "execution_count": 404,
     "metadata": {},
     "output_type": "execute_result"
    }
   ],
   "source": [
    "data =pd.read_csv(\"data/Laptop_Details.csv\")\n",
    "\n",
    "data.tail()"
   ]
  },
  {
   "cell_type": "code",
   "execution_count": 405,
   "id": "d9e130af",
   "metadata": {},
   "outputs": [
    {
     "data": {
      "text/plain": [
       "Product      0\n",
       "Rating     320\n",
       "MRP          0\n",
       "Feature      0\n",
       "dtype: int64"
      ]
     },
     "execution_count": 405,
     "metadata": {},
     "output_type": "execute_result"
    }
   ],
   "source": [
    "data.isnull().sum()"
   ]
  },
  {
   "cell_type": "code",
   "execution_count": 406,
   "id": "ae8495d9",
   "metadata": {},
   "outputs": [
    {
     "data": {
      "text/plain": [
       "0      4.4\n",
       "1      4.4\n",
       "2      4.3\n",
       "3      4.3\n",
       "4      4.3\n",
       "      ... \n",
       "979    NaN\n",
       "980    NaN\n",
       "981    4.4\n",
       "982    NaN\n",
       "983    4.2\n",
       "Name: Rating, Length: 984, dtype: float64"
      ]
     },
     "execution_count": 406,
     "metadata": {},
     "output_type": "execute_result"
    }
   ],
   "source": [
    "data.Rating.astype(float)"
   ]
  },
  {
   "cell_type": "code",
   "execution_count": 407,
   "id": "e3ad9a47",
   "metadata": {},
   "outputs": [
    {
     "data": {
      "text/plain": [
       "(984, 4)"
      ]
     },
     "execution_count": 407,
     "metadata": {},
     "output_type": "execute_result"
    }
   ],
   "source": [
    "data.shape"
   ]
  },
  {
   "cell_type": "code",
   "execution_count": 408,
   "id": "32645a48",
   "metadata": {},
   "outputs": [
    {
     "data": {
      "text/html": [
       "<div>\n",
       "<style scoped>\n",
       "    .dataframe tbody tr th:only-of-type {\n",
       "        vertical-align: middle;\n",
       "    }\n",
       "\n",
       "    .dataframe tbody tr th {\n",
       "        vertical-align: top;\n",
       "    }\n",
       "\n",
       "    .dataframe thead th {\n",
       "        text-align: right;\n",
       "    }\n",
       "</style>\n",
       "<table border=\"1\" class=\"dataframe\">\n",
       "  <thead>\n",
       "    <tr style=\"text-align: right;\">\n",
       "      <th></th>\n",
       "      <th>Product</th>\n",
       "      <th>Rating</th>\n",
       "      <th>MRP</th>\n",
       "      <th>Feature</th>\n",
       "    </tr>\n",
       "  </thead>\n",
       "  <tbody>\n",
       "    <tr>\n",
       "      <th>0</th>\n",
       "      <td>Lenovo IdeaPad Gaming 3 Core i5 11th Gen - (8 ...</td>\n",
       "      <td>4.4</td>\n",
       "      <td>₹68,740</td>\n",
       "      <td>Intel Core i5 Processor (11th Gen)8 GB DDR4 RA...</td>\n",
       "    </tr>\n",
       "    <tr>\n",
       "      <th>1</th>\n",
       "      <td>Lenovo IdeaPad Gaming 3 Ryzen 7 Octa Core AMD ...</td>\n",
       "      <td>4.4</td>\n",
       "      <td>₹76,890</td>\n",
       "      <td>AMD Ryzen 7 Octa Core Processor8 GB DDR4 RAM64...</td>\n",
       "    </tr>\n",
       "    <tr>\n",
       "      <th>2</th>\n",
       "      <td>ASUS VivoBook 15 (2022) Core i3 10th Gen - (8 ...</td>\n",
       "      <td>4.3</td>\n",
       "      <td>₹29,390</td>\n",
       "      <td>Intel Core i3 Processor (10th Gen)8 GB DDR4 RA...</td>\n",
       "    </tr>\n",
       "    <tr>\n",
       "      <th>3</th>\n",
       "      <td>ASUS VivoBook 15 (2022) Core i5 10th Gen - (8 ...</td>\n",
       "      <td>4.3</td>\n",
       "      <td>₹55,890</td>\n",
       "      <td>Intel Core i5 Processor (10th Gen)8 GB DDR4 RA...</td>\n",
       "    </tr>\n",
       "    <tr>\n",
       "      <th>4</th>\n",
       "      <td>ASUS TUF Gaming F15 Core i5 10th Gen - (8 GB/5...</td>\n",
       "      <td>4.3</td>\n",
       "      <td>₹47,890</td>\n",
       "      <td>Intel Core i5 Processor (10th Gen)8 GB DDR4 RA...</td>\n",
       "    </tr>\n",
       "  </tbody>\n",
       "</table>\n",
       "</div>"
      ],
      "text/plain": [
       "                                             Product  Rating      MRP  \\\n",
       "0  Lenovo IdeaPad Gaming 3 Core i5 11th Gen - (8 ...     4.4  ₹68,740   \n",
       "1  Lenovo IdeaPad Gaming 3 Ryzen 7 Octa Core AMD ...     4.4  ₹76,890   \n",
       "2  ASUS VivoBook 15 (2022) Core i3 10th Gen - (8 ...     4.3  ₹29,390   \n",
       "3  ASUS VivoBook 15 (2022) Core i5 10th Gen - (8 ...     4.3  ₹55,890   \n",
       "4  ASUS TUF Gaming F15 Core i5 10th Gen - (8 GB/5...     4.3  ₹47,890   \n",
       "\n",
       "                                             Feature  \n",
       "0  Intel Core i5 Processor (11th Gen)8 GB DDR4 RA...  \n",
       "1  AMD Ryzen 7 Octa Core Processor8 GB DDR4 RAM64...  \n",
       "2  Intel Core i3 Processor (10th Gen)8 GB DDR4 RA...  \n",
       "3  Intel Core i5 Processor (10th Gen)8 GB DDR4 RA...  \n",
       "4  Intel Core i5 Processor (10th Gen)8 GB DDR4 RA...  "
      ]
     },
     "execution_count": 408,
     "metadata": {},
     "output_type": "execute_result"
    }
   ],
   "source": [
    "data.head()"
   ]
  },
  {
   "cell_type": "code",
   "execution_count": 409,
   "id": "7d762e4f",
   "metadata": {},
   "outputs": [
    {
     "data": {
      "text/plain": [
       "Product    False\n",
       "Rating      True\n",
       "MRP        False\n",
       "Feature    False\n",
       "dtype: bool"
      ]
     },
     "execution_count": 409,
     "metadata": {},
     "output_type": "execute_result"
    }
   ],
   "source": [
    "data.isnull().any(axis=0)"
   ]
  },
  {
   "cell_type": "code",
   "execution_count": 410,
   "id": "c611388e",
   "metadata": {},
   "outputs": [
    {
     "data": {
      "text/plain": [
       "0      False\n",
       "1      False\n",
       "2      False\n",
       "3      False\n",
       "4      False\n",
       "       ...  \n",
       "979     True\n",
       "980     True\n",
       "981    False\n",
       "982     True\n",
       "983    False\n",
       "Length: 984, dtype: bool"
      ]
     },
     "execution_count": 410,
     "metadata": {},
     "output_type": "execute_result"
    }
   ],
   "source": [
    "data.isnull().any(axis=1)"
   ]
  },
  {
   "cell_type": "code",
   "execution_count": 411,
   "id": "ea9ab468",
   "metadata": {},
   "outputs": [
    {
     "data": {
      "text/html": [
       "<div>\n",
       "<style scoped>\n",
       "    .dataframe tbody tr th:only-of-type {\n",
       "        vertical-align: middle;\n",
       "    }\n",
       "\n",
       "    .dataframe tbody tr th {\n",
       "        vertical-align: top;\n",
       "    }\n",
       "\n",
       "    .dataframe thead th {\n",
       "        text-align: right;\n",
       "    }\n",
       "</style>\n",
       "<table border=\"1\" class=\"dataframe\">\n",
       "  <thead>\n",
       "    <tr style=\"text-align: right;\">\n",
       "      <th></th>\n",
       "      <th>Product</th>\n",
       "      <th>Rating</th>\n",
       "      <th>MRP</th>\n",
       "      <th>Feature</th>\n",
       "    </tr>\n",
       "  </thead>\n",
       "  <tbody>\n",
       "  </tbody>\n",
       "</table>\n",
       "</div>"
      ],
      "text/plain": [
       "Empty DataFrame\n",
       "Columns: [Product, Rating, MRP, Feature]\n",
       "Index: []"
      ]
     },
     "execution_count": 411,
     "metadata": {},
     "output_type": "execute_result"
    }
   ],
   "source": [
    "data[data.isnull().any(axis=1)>3]"
   ]
  },
  {
   "cell_type": "code",
   "execution_count": 412,
   "id": "60e50a72",
   "metadata": {},
   "outputs": [
    {
     "data": {
      "text/plain": [
       "4.3"
      ]
     },
     "execution_count": 412,
     "metadata": {},
     "output_type": "execute_result"
    }
   ],
   "source": [
    "round(data[\"Rating\"].mean(),1)"
   ]
  },
  {
   "cell_type": "code",
   "execution_count": 413,
   "id": "069b79df",
   "metadata": {},
   "outputs": [],
   "source": [
    "data[\"Rating\"].fillna(data[\"Rating\"].mean(),inplace=True)"
   ]
  },
  {
   "cell_type": "code",
   "execution_count": 414,
   "id": "7369583a",
   "metadata": {},
   "outputs": [
    {
     "name": "stdout",
     "output_type": "stream",
     "text": [
      "<class 'pandas.core.frame.DataFrame'>\n",
      "RangeIndex: 984 entries, 0 to 983\n",
      "Data columns (total 4 columns):\n",
      " #   Column   Non-Null Count  Dtype  \n",
      "---  ------   --------------  -----  \n",
      " 0   Product  984 non-null    object \n",
      " 1   Rating   984 non-null    float64\n",
      " 2   MRP      984 non-null    object \n",
      " 3   Feature  984 non-null    object \n",
      "dtypes: float64(1), object(3)\n",
      "memory usage: 30.9+ KB\n"
     ]
    }
   ],
   "source": [
    "data.info()"
   ]
  },
  {
   "cell_type": "code",
   "execution_count": 415,
   "id": "b13492ac",
   "metadata": {},
   "outputs": [
    {
     "data": {
      "text/html": [
       "<div>\n",
       "<style scoped>\n",
       "    .dataframe tbody tr th:only-of-type {\n",
       "        vertical-align: middle;\n",
       "    }\n",
       "\n",
       "    .dataframe tbody tr th {\n",
       "        vertical-align: top;\n",
       "    }\n",
       "\n",
       "    .dataframe thead th {\n",
       "        text-align: right;\n",
       "    }\n",
       "</style>\n",
       "<table border=\"1\" class=\"dataframe\">\n",
       "  <thead>\n",
       "    <tr style=\"text-align: right;\">\n",
       "      <th></th>\n",
       "      <th>Product</th>\n",
       "      <th>Rating</th>\n",
       "      <th>MRP</th>\n",
       "      <th>Feature</th>\n",
       "    </tr>\n",
       "  </thead>\n",
       "  <tbody>\n",
       "    <tr>\n",
       "      <th>0</th>\n",
       "      <td>Lenovo IdeaPad Gaming 3 Core i5 11th Gen - (8 ...</td>\n",
       "      <td>4.4</td>\n",
       "      <td>₹68,740</td>\n",
       "      <td>Intel Core i5 Processor (11th Gen)8 GB DDR4 RA...</td>\n",
       "    </tr>\n",
       "    <tr>\n",
       "      <th>1</th>\n",
       "      <td>Lenovo IdeaPad Gaming 3 Ryzen 7 Octa Core AMD ...</td>\n",
       "      <td>4.4</td>\n",
       "      <td>₹76,890</td>\n",
       "      <td>AMD Ryzen 7 Octa Core Processor8 GB DDR4 RAM64...</td>\n",
       "    </tr>\n",
       "    <tr>\n",
       "      <th>2</th>\n",
       "      <td>ASUS VivoBook 15 (2022) Core i3 10th Gen - (8 ...</td>\n",
       "      <td>4.3</td>\n",
       "      <td>₹29,390</td>\n",
       "      <td>Intel Core i3 Processor (10th Gen)8 GB DDR4 RA...</td>\n",
       "    </tr>\n",
       "    <tr>\n",
       "      <th>3</th>\n",
       "      <td>ASUS VivoBook 15 (2022) Core i5 10th Gen - (8 ...</td>\n",
       "      <td>4.3</td>\n",
       "      <td>₹55,890</td>\n",
       "      <td>Intel Core i5 Processor (10th Gen)8 GB DDR4 RA...</td>\n",
       "    </tr>\n",
       "    <tr>\n",
       "      <th>4</th>\n",
       "      <td>ASUS TUF Gaming F15 Core i5 10th Gen - (8 GB/5...</td>\n",
       "      <td>4.3</td>\n",
       "      <td>₹47,890</td>\n",
       "      <td>Intel Core i5 Processor (10th Gen)8 GB DDR4 RA...</td>\n",
       "    </tr>\n",
       "  </tbody>\n",
       "</table>\n",
       "</div>"
      ],
      "text/plain": [
       "                                             Product  Rating      MRP  \\\n",
       "0  Lenovo IdeaPad Gaming 3 Core i5 11th Gen - (8 ...     4.4  ₹68,740   \n",
       "1  Lenovo IdeaPad Gaming 3 Ryzen 7 Octa Core AMD ...     4.4  ₹76,890   \n",
       "2  ASUS VivoBook 15 (2022) Core i3 10th Gen - (8 ...     4.3  ₹29,390   \n",
       "3  ASUS VivoBook 15 (2022) Core i5 10th Gen - (8 ...     4.3  ₹55,890   \n",
       "4  ASUS TUF Gaming F15 Core i5 10th Gen - (8 GB/5...     4.3  ₹47,890   \n",
       "\n",
       "                                             Feature  \n",
       "0  Intel Core i5 Processor (11th Gen)8 GB DDR4 RA...  \n",
       "1  AMD Ryzen 7 Octa Core Processor8 GB DDR4 RAM64...  \n",
       "2  Intel Core i3 Processor (10th Gen)8 GB DDR4 RA...  \n",
       "3  Intel Core i5 Processor (10th Gen)8 GB DDR4 RA...  \n",
       "4  Intel Core i5 Processor (10th Gen)8 GB DDR4 RA...  "
      ]
     },
     "execution_count": 415,
     "metadata": {},
     "output_type": "execute_result"
    }
   ],
   "source": [
    "data.head()"
   ]
  },
  {
   "cell_type": "code",
   "execution_count": 416,
   "id": "84317779",
   "metadata": {},
   "outputs": [
    {
     "data": {
      "text/plain": [
       "Product    0\n",
       "Rating     0\n",
       "MRP        0\n",
       "Feature    0\n",
       "dtype: int64"
      ]
     },
     "execution_count": 416,
     "metadata": {},
     "output_type": "execute_result"
    }
   ],
   "source": [
    "data.isnull().sum()"
   ]
  },
  {
   "cell_type": "code",
   "execution_count": 417,
   "id": "90009748",
   "metadata": {},
   "outputs": [
    {
     "data": {
      "text/html": [
       "<div>\n",
       "<style scoped>\n",
       "    .dataframe tbody tr th:only-of-type {\n",
       "        vertical-align: middle;\n",
       "    }\n",
       "\n",
       "    .dataframe tbody tr th {\n",
       "        vertical-align: top;\n",
       "    }\n",
       "\n",
       "    .dataframe thead th {\n",
       "        text-align: right;\n",
       "    }\n",
       "</style>\n",
       "<table border=\"1\" class=\"dataframe\">\n",
       "  <thead>\n",
       "    <tr style=\"text-align: right;\">\n",
       "      <th></th>\n",
       "      <th>Rating</th>\n",
       "    </tr>\n",
       "  </thead>\n",
       "  <tbody>\n",
       "    <tr>\n",
       "      <th>count</th>\n",
       "      <td>984.000000</td>\n",
       "    </tr>\n",
       "    <tr>\n",
       "      <th>mean</th>\n",
       "      <td>4.293223</td>\n",
       "    </tr>\n",
       "    <tr>\n",
       "      <th>std</th>\n",
       "      <td>0.304659</td>\n",
       "    </tr>\n",
       "    <tr>\n",
       "      <th>min</th>\n",
       "      <td>1.600000</td>\n",
       "    </tr>\n",
       "    <tr>\n",
       "      <th>25%</th>\n",
       "      <td>4.293223</td>\n",
       "    </tr>\n",
       "    <tr>\n",
       "      <th>50%</th>\n",
       "      <td>4.293223</td>\n",
       "    </tr>\n",
       "    <tr>\n",
       "      <th>75%</th>\n",
       "      <td>4.400000</td>\n",
       "    </tr>\n",
       "    <tr>\n",
       "      <th>max</th>\n",
       "      <td>5.000000</td>\n",
       "    </tr>\n",
       "  </tbody>\n",
       "</table>\n",
       "</div>"
      ],
      "text/plain": [
       "           Rating\n",
       "count  984.000000\n",
       "mean     4.293223\n",
       "std      0.304659\n",
       "min      1.600000\n",
       "25%      4.293223\n",
       "50%      4.293223\n",
       "75%      4.400000\n",
       "max      5.000000"
      ]
     },
     "execution_count": 417,
     "metadata": {},
     "output_type": "execute_result"
    }
   ],
   "source": [
    "data.describe()"
   ]
  },
  {
   "cell_type": "code",
   "execution_count": 418,
   "id": "ad7626cf",
   "metadata": {},
   "outputs": [
    {
     "data": {
      "text/plain": [
       "<seaborn.axisgrid.FacetGrid at 0x2a7e9ba0f10>"
      ]
     },
     "execution_count": 418,
     "metadata": {},
     "output_type": "execute_result"
    },
    {
     "data": {
      "image/png": "[encoded data removed]",
      "text/plain": [
       "<Figure size 360x360 with 1 Axes>"
      ]
     },
     "metadata": {
      "needs_background": "light"
     },
     "output_type": "display_data"
    }
   ],
   "source": [
    "sns.displot(data['Rating'])"
   ]
  },
  {
   "cell_type": "code",
   "execution_count": 419,
   "id": "51403b9e",
   "metadata": {},
   "outputs": [
    {
     "data": {
      "text/plain": [
       "4.3"
      ]
     },
     "execution_count": 419,
     "metadata": {},
     "output_type": "execute_result"
    }
   ],
   "source": [
    "round(data['Rating'].mean(),1)"
   ]
  },
  {
   "cell_type": "code",
   "execution_count": 420,
   "id": "261c230e",
   "metadata": {},
   "outputs": [
    {
     "data": {
      "text/plain": [
       "4.3"
      ]
     },
     "execution_count": 420,
     "metadata": {},
     "output_type": "execute_result"
    }
   ],
   "source": [
    "round(data.Rating.median(),1)"
   ]
  },
  {
   "cell_type": "code",
   "execution_count": 421,
   "id": "b36a38c0",
   "metadata": {},
   "outputs": [],
   "source": [
    "data['Rating'].fillna(round(data['Rating'].mean(),1),inplace=True)"
   ]
  },
  {
   "cell_type": "code",
   "execution_count": 422,
   "id": "72aee0ae",
   "metadata": {},
   "outputs": [
    {
     "data": {
      "text/html": [
       "<div>\n",
       "<style scoped>\n",
       "    .dataframe tbody tr th:only-of-type {\n",
       "        vertical-align: middle;\n",
       "    }\n",
       "\n",
       "    .dataframe tbody tr th {\n",
       "        vertical-align: top;\n",
       "    }\n",
       "\n",
       "    .dataframe thead th {\n",
       "        text-align: right;\n",
       "    }\n",
       "</style>\n",
       "<table border=\"1\" class=\"dataframe\">\n",
       "  <thead>\n",
       "    <tr style=\"text-align: right;\">\n",
       "      <th></th>\n",
       "      <th>Car ID</th>\n",
       "      <th>Symboling</th>\n",
       "      <th>Car Name</th>\n",
       "      <th>Fuel Type</th>\n",
       "      <th>Aspiration</th>\n",
       "      <th>Door Number</th>\n",
       "      <th>Car Body</th>\n",
       "      <th>Drive Wheel</th>\n",
       "      <th>Engine Location</th>\n",
       "      <th>Wheel Base</th>\n",
       "      <th>...</th>\n",
       "      <th>Engine Size</th>\n",
       "      <th>Fuel System</th>\n",
       "      <th>Bore Ratio</th>\n",
       "      <th>Stroke</th>\n",
       "      <th>Compression Ratio</th>\n",
       "      <th>Horse Power</th>\n",
       "      <th>Peak RPM</th>\n",
       "      <th>City MPG</th>\n",
       "      <th>Highway MPG</th>\n",
       "      <th>Price</th>\n",
       "    </tr>\n",
       "  </thead>\n",
       "  <tbody>\n",
       "    <tr>\n",
       "      <th>0</th>\n",
       "      <td>1</td>\n",
       "      <td>3</td>\n",
       "      <td>alfa-romero giulia</td>\n",
       "      <td>gas</td>\n",
       "      <td>std</td>\n",
       "      <td>two</td>\n",
       "      <td>convertible</td>\n",
       "      <td>rwd</td>\n",
       "      <td>front</td>\n",
       "      <td>88.6</td>\n",
       "      <td>...</td>\n",
       "      <td>130</td>\n",
       "      <td>mpfi</td>\n",
       "      <td>3.47</td>\n",
       "      <td>2.68</td>\n",
       "      <td>9.0</td>\n",
       "      <td>111</td>\n",
       "      <td>5K</td>\n",
       "      <td>21</td>\n",
       "      <td>27</td>\n",
       "      <td>13495</td>\n",
       "    </tr>\n",
       "    <tr>\n",
       "      <th>1</th>\n",
       "      <td>2</td>\n",
       "      <td>3</td>\n",
       "      <td>alfa-romero stelvio</td>\n",
       "      <td>gas</td>\n",
       "      <td>std</td>\n",
       "      <td>two</td>\n",
       "      <td>convertible</td>\n",
       "      <td>rwd</td>\n",
       "      <td>front</td>\n",
       "      <td>88.6</td>\n",
       "      <td>...</td>\n",
       "      <td>130</td>\n",
       "      <td>mpfi</td>\n",
       "      <td>3.47</td>\n",
       "      <td>2.68</td>\n",
       "      <td>9.0</td>\n",
       "      <td>111</td>\n",
       "      <td>5K</td>\n",
       "      <td>21</td>\n",
       "      <td>27</td>\n",
       "      <td>16500</td>\n",
       "    </tr>\n",
       "    <tr>\n",
       "      <th>2</th>\n",
       "      <td>3</td>\n",
       "      <td>1</td>\n",
       "      <td>alfa-romero Quadrifoglio</td>\n",
       "      <td>gas</td>\n",
       "      <td>std</td>\n",
       "      <td>two</td>\n",
       "      <td>hatchback</td>\n",
       "      <td>rwd</td>\n",
       "      <td>front</td>\n",
       "      <td>94.5</td>\n",
       "      <td>...</td>\n",
       "      <td>152</td>\n",
       "      <td>mpfi</td>\n",
       "      <td>2.68</td>\n",
       "      <td>3.47</td>\n",
       "      <td>9.0</td>\n",
       "      <td>154</td>\n",
       "      <td>5K</td>\n",
       "      <td>19</td>\n",
       "      <td>26</td>\n",
       "      <td>16500</td>\n",
       "    </tr>\n",
       "    <tr>\n",
       "      <th>3</th>\n",
       "      <td>4</td>\n",
       "      <td>2</td>\n",
       "      <td>audi 100 ls</td>\n",
       "      <td>gas</td>\n",
       "      <td>std</td>\n",
       "      <td>four</td>\n",
       "      <td>sedan</td>\n",
       "      <td>fwd</td>\n",
       "      <td>front</td>\n",
       "      <td>99.8</td>\n",
       "      <td>...</td>\n",
       "      <td>109</td>\n",
       "      <td>mpfi</td>\n",
       "      <td>3.19</td>\n",
       "      <td>3.40</td>\n",
       "      <td>10.0</td>\n",
       "      <td>102</td>\n",
       "      <td>5500</td>\n",
       "      <td>24</td>\n",
       "      <td>30</td>\n",
       "      <td>13950</td>\n",
       "    </tr>\n",
       "    <tr>\n",
       "      <th>4</th>\n",
       "      <td>5</td>\n",
       "      <td>2</td>\n",
       "      <td>audi 100ls</td>\n",
       "      <td>gas</td>\n",
       "      <td>std</td>\n",
       "      <td>four</td>\n",
       "      <td>sedan</td>\n",
       "      <td>4wd</td>\n",
       "      <td>front</td>\n",
       "      <td>99.4</td>\n",
       "      <td>...</td>\n",
       "      <td>136</td>\n",
       "      <td>mpfi</td>\n",
       "      <td>3.19</td>\n",
       "      <td>3.40</td>\n",
       "      <td>8.0</td>\n",
       "      <td>115</td>\n",
       "      <td>5500</td>\n",
       "      <td>18</td>\n",
       "      <td>22</td>\n",
       "      <td>17450</td>\n",
       "    </tr>\n",
       "  </tbody>\n",
       "</table>\n",
       "<p>5 rows × 26 columns</p>\n",
       "</div>"
      ],
      "text/plain": [
       "   Car ID  Symboling                  Car Name Fuel Type Aspiration  \\\n",
       "0       1          3        alfa-romero giulia       gas        std   \n",
       "1       2          3       alfa-romero stelvio       gas        std   \n",
       "2       3          1  alfa-romero Quadrifoglio       gas        std   \n",
       "3       4          2               audi 100 ls       gas        std   \n",
       "4       5          2                audi 100ls       gas        std   \n",
       "\n",
       "  Door Number     Car Body Drive Wheel Engine Location  Wheel Base  ...  \\\n",
       "0         two  convertible         rwd           front        88.6  ...   \n",
       "1         two  convertible         rwd           front        88.6  ...   \n",
       "2         two    hatchback         rwd           front        94.5  ...   \n",
       "3        four        sedan         fwd           front        99.8  ...   \n",
       "4        four        sedan         4wd           front        99.4  ...   \n",
       "\n",
       "   Engine Size  Fuel System  Bore Ratio  Stroke Compression Ratio Horse Power  \\\n",
       "0          130         mpfi        3.47    2.68               9.0         111   \n",
       "1          130         mpfi        3.47    2.68               9.0         111   \n",
       "2          152         mpfi        2.68    3.47               9.0         154   \n",
       "3          109         mpfi        3.19    3.40              10.0         102   \n",
       "4          136         mpfi        3.19    3.40               8.0         115   \n",
       "\n",
       "   Peak RPM City MPG  Highway MPG  Price  \n",
       "0        5K       21           27  13495  \n",
       "1        5K       21           27  16500  \n",
       "2        5K       19           26  16500  \n",
       "3      5500       24           30  13950  \n",
       "4      5500       18           22  17450  \n",
       "\n",
       "[5 rows x 26 columns]"
      ]
     },
     "execution_count": 422,
     "metadata": {},
     "output_type": "execute_result"
    }
   ],
   "source": [
    "carData = pd.read_csv(\"data/car_data.csv\")\n",
    "\n",
    "carData.head()"
   ]
  },
  {
   "cell_type": "code",
   "execution_count": 423,
   "id": "d85e53eb",
   "metadata": {},
   "outputs": [
    {
     "data": {
      "text/plain": [
       "Car ID               0\n",
       "Symboling            0\n",
       "Car Name             0\n",
       "Fuel Type            0\n",
       "Aspiration           0\n",
       "Door Number          0\n",
       "Car Body             0\n",
       "Drive Wheel          0\n",
       "Engine Location      0\n",
       "Wheel Base           0\n",
       "Car Length           0\n",
       "Car Width            0\n",
       "Car Height           0\n",
       "Curb Weight          0\n",
       "Engine Type          0\n",
       "Cylinder Number      0\n",
       "Engine Size          0\n",
       "Fuel System          0\n",
       "Bore Ratio           0\n",
       "Stroke               0\n",
       "Compression Ratio    0\n",
       "Horse Power          0\n",
       "Peak RPM             0\n",
       "City MPG             0\n",
       "Highway MPG          0\n",
       "Price                0\n",
       "dtype: int64"
      ]
     },
     "execution_count": 423,
     "metadata": {},
     "output_type": "execute_result"
    }
   ],
   "source": [
    "carData.isnull().sum()"
   ]
  },
  {
   "cell_type": "code",
   "execution_count": 424,
   "id": "5766cd69",
   "metadata": {},
   "outputs": [
    {
     "name": "stdout",
     "output_type": "stream",
     "text": [
      "<class 'pandas.core.frame.DataFrame'>\n",
      "RangeIndex: 205 entries, 0 to 204\n",
      "Data columns (total 26 columns):\n",
      " #   Column             Non-Null Count  Dtype  \n",
      "---  ------             --------------  -----  \n",
      " 0   Car ID             205 non-null    int64  \n",
      " 1   Symboling          205 non-null    int64  \n",
      " 2   Car Name           205 non-null    object \n",
      " 3   Fuel Type          205 non-null    object \n",
      " 4   Aspiration         205 non-null    object \n",
      " 5   Door Number        205 non-null    object \n",
      " 6   Car Body           205 non-null    object \n",
      " 7   Drive Wheel        205 non-null    object \n",
      " 8   Engine Location    205 non-null    object \n",
      " 9   Wheel Base         205 non-null    float64\n",
      " 10  Car Length         205 non-null    float64\n",
      " 11  Car Width          205 non-null    float64\n",
      " 12  Car Height         205 non-null    float64\n",
      " 13  Curb Weight        205 non-null    int64  \n",
      " 14  Engine Type        205 non-null    object \n",
      " 15  Cylinder Number    205 non-null    object \n",
      " 16  Engine Size        205 non-null    int64  \n",
      " 17  Fuel System        205 non-null    object \n",
      " 18  Bore Ratio         205 non-null    float64\n",
      " 19  Stroke             205 non-null    float64\n",
      " 20  Compression Ratio  205 non-null    float64\n",
      " 21  Horse Power        205 non-null    int64  \n",
      " 22  Peak RPM           205 non-null    object \n",
      " 23  City MPG           205 non-null    int64  \n",
      " 24  Highway MPG        205 non-null    int64  \n",
      " 25  Price              205 non-null    object \n",
      "dtypes: float64(7), int64(7), object(12)\n",
      "memory usage: 41.8+ KB\n"
     ]
    }
   ],
   "source": [
    "carData.info()"
   ]
  },
  {
   "cell_type": "code",
   "execution_count": 425,
   "id": "1d4bdd6a",
   "metadata": {},
   "outputs": [
    {
     "data": {
      "text/plain": [
       "['car_id',\n",
       " 'symboling',\n",
       " 'car_name',\n",
       " 'fuel_type',\n",
       " 'aspiration',\n",
       " 'door_number',\n",
       " 'car_body',\n",
       " 'drive_wheel',\n",
       " 'engine_location',\n",
       " 'wheel_base',\n",
       " 'car_length',\n",
       " 'car_width',\n",
       " 'car_height',\n",
       " 'curb_weight',\n",
       " 'engine_type',\n",
       " 'cylinder_number',\n",
       " 'engine_size',\n",
       " 'fuel_system',\n",
       " 'bore_ratio',\n",
       " 'stroke',\n",
       " 'compression_ratio',\n",
       " 'horse_power',\n",
       " 'peak_rpm',\n",
       " 'city_mpg',\n",
       " 'highway_mpg',\n",
       " 'price']"
      ]
     },
     "execution_count": 425,
     "metadata": {},
     "output_type": "execute_result"
    }
   ],
   "source": [
    "col_names = [name.lower().replace(\" \",\"_\") for name in carData.columns]\n",
    "\n",
    "col_names"
   ]
  },
  {
   "cell_type": "code",
   "execution_count": 426,
   "id": "7c51d0cc",
   "metadata": {},
   "outputs": [],
   "source": [
    "carData.columns = col_names"
   ]
  },
  {
   "cell_type": "code",
   "execution_count": 427,
   "id": "16a7aa10",
   "metadata": {},
   "outputs": [
    {
     "data": {
      "text/html": [
       "<div>\n",
       "<style scoped>\n",
       "    .dataframe tbody tr th:only-of-type {\n",
       "        vertical-align: middle;\n",
       "    }\n",
       "\n",
       "    .dataframe tbody tr th {\n",
       "        vertical-align: top;\n",
       "    }\n",
       "\n",
       "    .dataframe thead th {\n",
       "        text-align: right;\n",
       "    }\n",
       "</style>\n",
       "<table border=\"1\" class=\"dataframe\">\n",
       "  <thead>\n",
       "    <tr style=\"text-align: right;\">\n",
       "      <th></th>\n",
       "      <th>car_id</th>\n",
       "      <th>symboling</th>\n",
       "      <th>car_name</th>\n",
       "      <th>fuel_type</th>\n",
       "      <th>aspiration</th>\n",
       "      <th>door_number</th>\n",
       "      <th>car_body</th>\n",
       "      <th>drive_wheel</th>\n",
       "      <th>engine_location</th>\n",
       "      <th>wheel_base</th>\n",
       "      <th>...</th>\n",
       "      <th>engine_size</th>\n",
       "      <th>fuel_system</th>\n",
       "      <th>bore_ratio</th>\n",
       "      <th>stroke</th>\n",
       "      <th>compression_ratio</th>\n",
       "      <th>horse_power</th>\n",
       "      <th>peak_rpm</th>\n",
       "      <th>city_mpg</th>\n",
       "      <th>highway_mpg</th>\n",
       "      <th>price</th>\n",
       "    </tr>\n",
       "  </thead>\n",
       "  <tbody>\n",
       "    <tr>\n",
       "      <th>0</th>\n",
       "      <td>1</td>\n",
       "      <td>3</td>\n",
       "      <td>alfa-romero giulia</td>\n",
       "      <td>gas</td>\n",
       "      <td>std</td>\n",
       "      <td>two</td>\n",
       "      <td>convertible</td>\n",
       "      <td>rwd</td>\n",
       "      <td>front</td>\n",
       "      <td>88.6</td>\n",
       "      <td>...</td>\n",
       "      <td>130</td>\n",
       "      <td>mpfi</td>\n",
       "      <td>3.47</td>\n",
       "      <td>2.68</td>\n",
       "      <td>9.0</td>\n",
       "      <td>111</td>\n",
       "      <td>5K</td>\n",
       "      <td>21</td>\n",
       "      <td>27</td>\n",
       "      <td>13495</td>\n",
       "    </tr>\n",
       "    <tr>\n",
       "      <th>1</th>\n",
       "      <td>2</td>\n",
       "      <td>3</td>\n",
       "      <td>alfa-romero stelvio</td>\n",
       "      <td>gas</td>\n",
       "      <td>std</td>\n",
       "      <td>two</td>\n",
       "      <td>convertible</td>\n",
       "      <td>rwd</td>\n",
       "      <td>front</td>\n",
       "      <td>88.6</td>\n",
       "      <td>...</td>\n",
       "      <td>130</td>\n",
       "      <td>mpfi</td>\n",
       "      <td>3.47</td>\n",
       "      <td>2.68</td>\n",
       "      <td>9.0</td>\n",
       "      <td>111</td>\n",
       "      <td>5K</td>\n",
       "      <td>21</td>\n",
       "      <td>27</td>\n",
       "      <td>16500</td>\n",
       "    </tr>\n",
       "    <tr>\n",
       "      <th>2</th>\n",
       "      <td>3</td>\n",
       "      <td>1</td>\n",
       "      <td>alfa-romero Quadrifoglio</td>\n",
       "      <td>gas</td>\n",
       "      <td>std</td>\n",
       "      <td>two</td>\n",
       "      <td>hatchback</td>\n",
       "      <td>rwd</td>\n",
       "      <td>front</td>\n",
       "      <td>94.5</td>\n",
       "      <td>...</td>\n",
       "      <td>152</td>\n",
       "      <td>mpfi</td>\n",
       "      <td>2.68</td>\n",
       "      <td>3.47</td>\n",
       "      <td>9.0</td>\n",
       "      <td>154</td>\n",
       "      <td>5K</td>\n",
       "      <td>19</td>\n",
       "      <td>26</td>\n",
       "      <td>16500</td>\n",
       "    </tr>\n",
       "    <tr>\n",
       "      <th>3</th>\n",
       "      <td>4</td>\n",
       "      <td>2</td>\n",
       "      <td>audi 100 ls</td>\n",
       "      <td>gas</td>\n",
       "      <td>std</td>\n",
       "      <td>four</td>\n",
       "      <td>sedan</td>\n",
       "      <td>fwd</td>\n",
       "      <td>front</td>\n",
       "      <td>99.8</td>\n",
       "      <td>...</td>\n",
       "      <td>109</td>\n",
       "      <td>mpfi</td>\n",
       "      <td>3.19</td>\n",
       "      <td>3.40</td>\n",
       "      <td>10.0</td>\n",
       "      <td>102</td>\n",
       "      <td>5500</td>\n",
       "      <td>24</td>\n",
       "      <td>30</td>\n",
       "      <td>13950</td>\n",
       "    </tr>\n",
       "    <tr>\n",
       "      <th>4</th>\n",
       "      <td>5</td>\n",
       "      <td>2</td>\n",
       "      <td>audi 100ls</td>\n",
       "      <td>gas</td>\n",
       "      <td>std</td>\n",
       "      <td>four</td>\n",
       "      <td>sedan</td>\n",
       "      <td>4wd</td>\n",
       "      <td>front</td>\n",
       "      <td>99.4</td>\n",
       "      <td>...</td>\n",
       "      <td>136</td>\n",
       "      <td>mpfi</td>\n",
       "      <td>3.19</td>\n",
       "      <td>3.40</td>\n",
       "      <td>8.0</td>\n",
       "      <td>115</td>\n",
       "      <td>5500</td>\n",
       "      <td>18</td>\n",
       "      <td>22</td>\n",
       "      <td>17450</td>\n",
       "    </tr>\n",
       "  </tbody>\n",
       "</table>\n",
       "<p>5 rows × 26 columns</p>\n",
       "</div>"
      ],
      "text/plain": [
       "   car_id  symboling                  car_name fuel_type aspiration  \\\n",
       "0       1          3        alfa-romero giulia       gas        std   \n",
       "1       2          3       alfa-romero stelvio       gas        std   \n",
       "2       3          1  alfa-romero Quadrifoglio       gas        std   \n",
       "3       4          2               audi 100 ls       gas        std   \n",
       "4       5          2                audi 100ls       gas        std   \n",
       "\n",
       "  door_number     car_body drive_wheel engine_location  wheel_base  ...  \\\n",
       "0         two  convertible         rwd           front        88.6  ...   \n",
       "1         two  convertible         rwd           front        88.6  ...   \n",
       "2         two    hatchback         rwd           front        94.5  ...   \n",
       "3        four        sedan         fwd           front        99.8  ...   \n",
       "4        four        sedan         4wd           front        99.4  ...   \n",
       "\n",
       "   engine_size  fuel_system  bore_ratio  stroke compression_ratio horse_power  \\\n",
       "0          130         mpfi        3.47    2.68               9.0         111   \n",
       "1          130         mpfi        3.47    2.68               9.0         111   \n",
       "2          152         mpfi        2.68    3.47               9.0         154   \n",
       "3          109         mpfi        3.19    3.40              10.0         102   \n",
       "4          136         mpfi        3.19    3.40               8.0         115   \n",
       "\n",
       "   peak_rpm city_mpg  highway_mpg  price  \n",
       "0        5K       21           27  13495  \n",
       "1        5K       21           27  16500  \n",
       "2        5K       19           26  16500  \n",
       "3      5500       24           30  13950  \n",
       "4      5500       18           22  17450  \n",
       "\n",
       "[5 rows x 26 columns]"
      ]
     },
     "execution_count": 427,
     "metadata": {},
     "output_type": "execute_result"
    }
   ],
   "source": [
    "carData.head()"
   ]
  },
  {
   "cell_type": "code",
   "execution_count": 428,
   "id": "17072319",
   "metadata": {},
   "outputs": [],
   "source": [
    "carData.set_index(\"car_id\",inplace=True)"
   ]
  },
  {
   "cell_type": "code",
   "execution_count": 429,
   "id": "c54ddf4a",
   "metadata": {},
   "outputs": [
    {
     "data": {
      "text/html": [
       "<div>\n",
       "<style scoped>\n",
       "    .dataframe tbody tr th:only-of-type {\n",
       "        vertical-align: middle;\n",
       "    }\n",
       "\n",
       "    .dataframe tbody tr th {\n",
       "        vertical-align: top;\n",
       "    }\n",
       "\n",
       "    .dataframe thead th {\n",
       "        text-align: right;\n",
       "    }\n",
       "</style>\n",
       "<table border=\"1\" class=\"dataframe\">\n",
       "  <thead>\n",
       "    <tr style=\"text-align: right;\">\n",
       "      <th></th>\n",
       "      <th>symboling</th>\n",
       "      <th>car_name</th>\n",
       "      <th>fuel_type</th>\n",
       "      <th>aspiration</th>\n",
       "      <th>door_number</th>\n",
       "      <th>car_body</th>\n",
       "      <th>drive_wheel</th>\n",
       "      <th>engine_location</th>\n",
       "      <th>wheel_base</th>\n",
       "      <th>car_length</th>\n",
       "      <th>...</th>\n",
       "      <th>engine_size</th>\n",
       "      <th>fuel_system</th>\n",
       "      <th>bore_ratio</th>\n",
       "      <th>stroke</th>\n",
       "      <th>compression_ratio</th>\n",
       "      <th>horse_power</th>\n",
       "      <th>peak_rpm</th>\n",
       "      <th>city_mpg</th>\n",
       "      <th>highway_mpg</th>\n",
       "      <th>price</th>\n",
       "    </tr>\n",
       "    <tr>\n",
       "      <th>car_id</th>\n",
       "      <th></th>\n",
       "      <th></th>\n",
       "      <th></th>\n",
       "      <th></th>\n",
       "      <th></th>\n",
       "      <th></th>\n",
       "      <th></th>\n",
       "      <th></th>\n",
       "      <th></th>\n",
       "      <th></th>\n",
       "      <th></th>\n",
       "      <th></th>\n",
       "      <th></th>\n",
       "      <th></th>\n",
       "      <th></th>\n",
       "      <th></th>\n",
       "      <th></th>\n",
       "      <th></th>\n",
       "      <th></th>\n",
       "      <th></th>\n",
       "      <th></th>\n",
       "    </tr>\n",
       "  </thead>\n",
       "  <tbody>\n",
       "    <tr>\n",
       "      <th>1</th>\n",
       "      <td>3</td>\n",
       "      <td>alfa-romero giulia</td>\n",
       "      <td>gas</td>\n",
       "      <td>std</td>\n",
       "      <td>two</td>\n",
       "      <td>convertible</td>\n",
       "      <td>rwd</td>\n",
       "      <td>front</td>\n",
       "      <td>88.6</td>\n",
       "      <td>168.8</td>\n",
       "      <td>...</td>\n",
       "      <td>130</td>\n",
       "      <td>mpfi</td>\n",
       "      <td>3.47</td>\n",
       "      <td>2.68</td>\n",
       "      <td>9.0</td>\n",
       "      <td>111</td>\n",
       "      <td>5K</td>\n",
       "      <td>21</td>\n",
       "      <td>27</td>\n",
       "      <td>13495</td>\n",
       "    </tr>\n",
       "    <tr>\n",
       "      <th>2</th>\n",
       "      <td>3</td>\n",
       "      <td>alfa-romero stelvio</td>\n",
       "      <td>gas</td>\n",
       "      <td>std</td>\n",
       "      <td>two</td>\n",
       "      <td>convertible</td>\n",
       "      <td>rwd</td>\n",
       "      <td>front</td>\n",
       "      <td>88.6</td>\n",
       "      <td>168.8</td>\n",
       "      <td>...</td>\n",
       "      <td>130</td>\n",
       "      <td>mpfi</td>\n",
       "      <td>3.47</td>\n",
       "      <td>2.68</td>\n",
       "      <td>9.0</td>\n",
       "      <td>111</td>\n",
       "      <td>5K</td>\n",
       "      <td>21</td>\n",
       "      <td>27</td>\n",
       "      <td>16500</td>\n",
       "    </tr>\n",
       "    <tr>\n",
       "      <th>3</th>\n",
       "      <td>1</td>\n",
       "      <td>alfa-romero Quadrifoglio</td>\n",
       "      <td>gas</td>\n",
       "      <td>std</td>\n",
       "      <td>two</td>\n",
       "      <td>hatchback</td>\n",
       "      <td>rwd</td>\n",
       "      <td>front</td>\n",
       "      <td>94.5</td>\n",
       "      <td>171.2</td>\n",
       "      <td>...</td>\n",
       "      <td>152</td>\n",
       "      <td>mpfi</td>\n",
       "      <td>2.68</td>\n",
       "      <td>3.47</td>\n",
       "      <td>9.0</td>\n",
       "      <td>154</td>\n",
       "      <td>5K</td>\n",
       "      <td>19</td>\n",
       "      <td>26</td>\n",
       "      <td>16500</td>\n",
       "    </tr>\n",
       "    <tr>\n",
       "      <th>4</th>\n",
       "      <td>2</td>\n",
       "      <td>audi 100 ls</td>\n",
       "      <td>gas</td>\n",
       "      <td>std</td>\n",
       "      <td>four</td>\n",
       "      <td>sedan</td>\n",
       "      <td>fwd</td>\n",
       "      <td>front</td>\n",
       "      <td>99.8</td>\n",
       "      <td>176.6</td>\n",
       "      <td>...</td>\n",
       "      <td>109</td>\n",
       "      <td>mpfi</td>\n",
       "      <td>3.19</td>\n",
       "      <td>3.40</td>\n",
       "      <td>10.0</td>\n",
       "      <td>102</td>\n",
       "      <td>5500</td>\n",
       "      <td>24</td>\n",
       "      <td>30</td>\n",
       "      <td>13950</td>\n",
       "    </tr>\n",
       "    <tr>\n",
       "      <th>5</th>\n",
       "      <td>2</td>\n",
       "      <td>audi 100ls</td>\n",
       "      <td>gas</td>\n",
       "      <td>std</td>\n",
       "      <td>four</td>\n",
       "      <td>sedan</td>\n",
       "      <td>4wd</td>\n",
       "      <td>front</td>\n",
       "      <td>99.4</td>\n",
       "      <td>176.6</td>\n",
       "      <td>...</td>\n",
       "      <td>136</td>\n",
       "      <td>mpfi</td>\n",
       "      <td>3.19</td>\n",
       "      <td>3.40</td>\n",
       "      <td>8.0</td>\n",
       "      <td>115</td>\n",
       "      <td>5500</td>\n",
       "      <td>18</td>\n",
       "      <td>22</td>\n",
       "      <td>17450</td>\n",
       "    </tr>\n",
       "  </tbody>\n",
       "</table>\n",
       "<p>5 rows × 25 columns</p>\n",
       "</div>"
      ],
      "text/plain": [
       "        symboling                  car_name fuel_type aspiration door_number  \\\n",
       "car_id                                                                         \n",
       "1               3        alfa-romero giulia       gas        std         two   \n",
       "2               3       alfa-romero stelvio       gas        std         two   \n",
       "3               1  alfa-romero Quadrifoglio       gas        std         two   \n",
       "4               2               audi 100 ls       gas        std        four   \n",
       "5               2                audi 100ls       gas        std        four   \n",
       "\n",
       "           car_body drive_wheel engine_location  wheel_base  car_length  ...  \\\n",
       "car_id                                                                   ...   \n",
       "1       convertible         rwd           front        88.6       168.8  ...   \n",
       "2       convertible         rwd           front        88.6       168.8  ...   \n",
       "3         hatchback         rwd           front        94.5       171.2  ...   \n",
       "4             sedan         fwd           front        99.8       176.6  ...   \n",
       "5             sedan         4wd           front        99.4       176.6  ...   \n",
       "\n",
       "        engine_size  fuel_system  bore_ratio stroke compression_ratio  \\\n",
       "car_id                                                                  \n",
       "1               130         mpfi        3.47   2.68               9.0   \n",
       "2               130         mpfi        3.47   2.68               9.0   \n",
       "3               152         mpfi        2.68   3.47               9.0   \n",
       "4               109         mpfi        3.19   3.40              10.0   \n",
       "5               136         mpfi        3.19   3.40               8.0   \n",
       "\n",
       "        horse_power peak_rpm  city_mpg  highway_mpg  price  \n",
       "car_id                                                      \n",
       "1               111       5K        21           27  13495  \n",
       "2               111       5K        21           27  16500  \n",
       "3               154       5K        19           26  16500  \n",
       "4               102     5500        24           30  13950  \n",
       "5               115     5500        18           22  17450  \n",
       "\n",
       "[5 rows x 25 columns]"
      ]
     },
     "execution_count": 429,
     "metadata": {},
     "output_type": "execute_result"
    }
   ],
   "source": [
    "carData.head()"
   ]
  },
  {
   "cell_type": "code",
   "execution_count": 430,
   "id": "7d205ee6",
   "metadata": {},
   "outputs": [
    {
     "name": "stdout",
     "output_type": "stream",
     "text": [
      "<class 'pandas.core.frame.DataFrame'>\n",
      "Int64Index: 205 entries, 1 to 205\n",
      "Data columns (total 25 columns):\n",
      " #   Column             Non-Null Count  Dtype  \n",
      "---  ------             --------------  -----  \n",
      " 0   symboling          205 non-null    int64  \n",
      " 1   car_name           205 non-null    object \n",
      " 2   fuel_type          205 non-null    object \n",
      " 3   aspiration         205 non-null    object \n",
      " 4   door_number        205 non-null    object \n",
      " 5   car_body           205 non-null    object \n",
      " 6   drive_wheel        205 non-null    object \n",
      " 7   engine_location    205 non-null    object \n",
      " 8   wheel_base         205 non-null    float64\n",
      " 9   car_length         205 non-null    float64\n",
      " 10  car_width          205 non-null    float64\n",
      " 11  car_height         205 non-null    float64\n",
      " 12  curb_weight        205 non-null    int64  \n",
      " 13  engine_type        205 non-null    object \n",
      " 14  cylinder_number    205 non-null    object \n",
      " 15  engine_size        205 non-null    int64  \n",
      " 16  fuel_system        205 non-null    object \n",
      " 17  bore_ratio         205 non-null    float64\n",
      " 18  stroke             205 non-null    float64\n",
      " 19  compression_ratio  205 non-null    float64\n",
      " 20  horse_power        205 non-null    int64  \n",
      " 21  peak_rpm           205 non-null    object \n",
      " 22  city_mpg           205 non-null    int64  \n",
      " 23  highway_mpg        205 non-null    int64  \n",
      " 24  price              205 non-null    object \n",
      "dtypes: float64(7), int64(6), object(12)\n",
      "memory usage: 41.6+ KB\n"
     ]
    }
   ],
   "source": [
    "carData.info()"
   ]
  },
  {
   "cell_type": "code",
   "execution_count": 431,
   "id": "0e8d98d1",
   "metadata": {},
   "outputs": [
    {
     "data": {
      "text/plain": [
       "four    114\n",
       "two      90\n",
       "?         1\n",
       "Name: door_number, dtype: int64"
      ]
     },
     "execution_count": 431,
     "metadata": {},
     "output_type": "execute_result"
    }
   ],
   "source": [
    "carData.door_number.value_counts()"
   ]
  },
  {
   "cell_type": "markdown",
   "id": "99b16dc2",
   "metadata": {},
   "source": [
    "## Fixing the door_Number col\n",
    "as it has four, two,?"
   ]
  },
  {
   "cell_type": "code",
   "execution_count": 432,
   "id": "0537f645",
   "metadata": {},
   "outputs": [
    {
     "data": {
      "text/html": [
       "<div>\n",
       "<style scoped>\n",
       "    .dataframe tbody tr th:only-of-type {\n",
       "        vertical-align: middle;\n",
       "    }\n",
       "\n",
       "    .dataframe tbody tr th {\n",
       "        vertical-align: top;\n",
       "    }\n",
       "\n",
       "    .dataframe thead th {\n",
       "        text-align: right;\n",
       "    }\n",
       "</style>\n",
       "<table border=\"1\" class=\"dataframe\">\n",
       "  <thead>\n",
       "    <tr style=\"text-align: right;\">\n",
       "      <th>car_body</th>\n",
       "      <th>convertible</th>\n",
       "      <th>hardtop</th>\n",
       "      <th>hatchback</th>\n",
       "      <th>sedan</th>\n",
       "      <th>wagon</th>\n",
       "    </tr>\n",
       "    <tr>\n",
       "      <th>door_number</th>\n",
       "      <th></th>\n",
       "      <th></th>\n",
       "      <th></th>\n",
       "      <th></th>\n",
       "      <th></th>\n",
       "    </tr>\n",
       "  </thead>\n",
       "  <tbody>\n",
       "    <tr>\n",
       "      <th>?</th>\n",
       "      <td>0</td>\n",
       "      <td>0</td>\n",
       "      <td>0</td>\n",
       "      <td>0</td>\n",
       "      <td>1</td>\n",
       "    </tr>\n",
       "    <tr>\n",
       "      <th>four</th>\n",
       "      <td>0</td>\n",
       "      <td>0</td>\n",
       "      <td>10</td>\n",
       "      <td>80</td>\n",
       "      <td>24</td>\n",
       "    </tr>\n",
       "    <tr>\n",
       "      <th>two</th>\n",
       "      <td>6</td>\n",
       "      <td>8</td>\n",
       "      <td>60</td>\n",
       "      <td>16</td>\n",
       "      <td>0</td>\n",
       "    </tr>\n",
       "  </tbody>\n",
       "</table>\n",
       "</div>"
      ],
      "text/plain": [
       "car_body     convertible  hardtop  hatchback  sedan  wagon\n",
       "door_number                                               \n",
       "?                      0        0          0      0      1\n",
       "four                   0        0         10     80     24\n",
       "two                    6        8         60     16      0"
      ]
     },
     "execution_count": 432,
     "metadata": {},
     "output_type": "execute_result"
    }
   ],
   "source": [
    "pd.crosstab(carData.door_number,carData.car_body)"
   ]
  },
  {
   "cell_type": "code",
   "execution_count": 433,
   "id": "3440b09d",
   "metadata": {},
   "outputs": [
    {
     "data": {
      "text/html": [
       "<div>\n",
       "<style scoped>\n",
       "    .dataframe tbody tr th:only-of-type {\n",
       "        vertical-align: middle;\n",
       "    }\n",
       "\n",
       "    .dataframe tbody tr th {\n",
       "        vertical-align: top;\n",
       "    }\n",
       "\n",
       "    .dataframe thead th {\n",
       "        text-align: right;\n",
       "    }\n",
       "</style>\n",
       "<table border=\"1\" class=\"dataframe\">\n",
       "  <thead>\n",
       "    <tr style=\"text-align: right;\">\n",
       "      <th>engine_location</th>\n",
       "      <th>front</th>\n",
       "      <th>rear</th>\n",
       "    </tr>\n",
       "    <tr>\n",
       "      <th>door_number</th>\n",
       "      <th></th>\n",
       "      <th></th>\n",
       "    </tr>\n",
       "  </thead>\n",
       "  <tbody>\n",
       "    <tr>\n",
       "      <th>?</th>\n",
       "      <td>1</td>\n",
       "      <td>0</td>\n",
       "    </tr>\n",
       "    <tr>\n",
       "      <th>four</th>\n",
       "      <td>114</td>\n",
       "      <td>0</td>\n",
       "    </tr>\n",
       "    <tr>\n",
       "      <th>two</th>\n",
       "      <td>87</td>\n",
       "      <td>3</td>\n",
       "    </tr>\n",
       "  </tbody>\n",
       "</table>\n",
       "</div>"
      ],
      "text/plain": [
       "engine_location  front  rear\n",
       "door_number                 \n",
       "?                    1     0\n",
       "four               114     0\n",
       "two                 87     3"
      ]
     },
     "execution_count": 433,
     "metadata": {},
     "output_type": "execute_result"
    }
   ],
   "source": [
    "pd.crosstab(carData.door_number,carData.engine_location)"
   ]
  },
  {
   "cell_type": "code",
   "execution_count": 434,
   "id": "e1e2f28d",
   "metadata": {},
   "outputs": [],
   "source": [
    "carData['door_number'].replace(to_replace='?',value='four',regex=False,inplace=True)"
   ]
  },
  {
   "cell_type": "code",
   "execution_count": 435,
   "id": "01bf85bf",
   "metadata": {},
   "outputs": [],
   "source": [
    "#carData['door_number'].replace(to_replace='two',value=2,regex=False,inplace=True)\n",
    "#carData['door_number'].replace(to_replace='four',value=4,regex=False,inplace=True)"
   ]
  },
  {
   "cell_type": "code",
   "execution_count": 436,
   "id": "e7d8736a",
   "metadata": {},
   "outputs": [],
   "source": [
    "carData['door_number'] = carData['door_number'].apply(lambda x : 4 if x == 'four' else 2)"
   ]
  },
  {
   "cell_type": "code",
   "execution_count": 437,
   "id": "5ec9fadb",
   "metadata": {},
   "outputs": [
    {
     "data": {
      "text/plain": [
       "4    115\n",
       "2     90\n",
       "Name: door_number, dtype: int64"
      ]
     },
     "execution_count": 437,
     "metadata": {},
     "output_type": "execute_result"
    }
   ],
   "source": [
    "carData['door_number'].value_counts()"
   ]
  },
  {
   "cell_type": "code",
   "execution_count": 438,
   "id": "64d44209",
   "metadata": {},
   "outputs": [
    {
     "name": "stdout",
     "output_type": "stream",
     "text": [
      "<class 'pandas.core.frame.DataFrame'>\n",
      "Int64Index: 205 entries, 1 to 205\n",
      "Data columns (total 25 columns):\n",
      " #   Column             Non-Null Count  Dtype  \n",
      "---  ------             --------------  -----  \n",
      " 0   symboling          205 non-null    int64  \n",
      " 1   car_name           205 non-null    object \n",
      " 2   fuel_type          205 non-null    object \n",
      " 3   aspiration         205 non-null    object \n",
      " 4   door_number        205 non-null    int64  \n",
      " 5   car_body           205 non-null    object \n",
      " 6   drive_wheel        205 non-null    object \n",
      " 7   engine_location    205 non-null    object \n",
      " 8   wheel_base         205 non-null    float64\n",
      " 9   car_length         205 non-null    float64\n",
      " 10  car_width          205 non-null    float64\n",
      " 11  car_height         205 non-null    float64\n",
      " 12  curb_weight        205 non-null    int64  \n",
      " 13  engine_type        205 non-null    object \n",
      " 14  cylinder_number    205 non-null    object \n",
      " 15  engine_size        205 non-null    int64  \n",
      " 16  fuel_system        205 non-null    object \n",
      " 17  bore_ratio         205 non-null    float64\n",
      " 18  stroke             205 non-null    float64\n",
      " 19  compression_ratio  205 non-null    float64\n",
      " 20  horse_power        205 non-null    int64  \n",
      " 21  peak_rpm           205 non-null    object \n",
      " 22  city_mpg           205 non-null    int64  \n",
      " 23  highway_mpg        205 non-null    int64  \n",
      " 24  price              205 non-null    object \n",
      "dtypes: float64(7), int64(7), object(11)\n",
      "memory usage: 41.6+ KB\n"
     ]
    }
   ],
   "source": [
    "carData.info()"
   ]
  },
  {
   "cell_type": "code",
   "execution_count": null,
   "id": "0bd84082",
   "metadata": {},
   "outputs": [],
   "source": []
  },
  {
   "cell_type": "code",
   "execution_count": null,
   "id": "82f570a7",
   "metadata": {},
   "outputs": [],
   "source": []
  },
  {
   "cell_type": "code",
   "execution_count": 439,
   "id": "584032a8",
   "metadata": {
    "scrolled": true
   },
   "outputs": [
    {
     "data": {
      "text/plain": [
       "5500     36\n",
       "4800     36\n",
       "5K       27\n",
       "5200     21\n",
       "5400     10\n",
       "6K        9\n",
       "4500      7\n",
       "5250      7\n",
       "5800      7\n",
       "5100      5\n",
       "4150      5\n",
       "4200      5\n",
       "4750      4\n",
       "4350      4\n",
       "5,400     3\n",
       "4250      3\n",
       "5900      3\n",
       "4400      3\n",
       "5,200     2\n",
       "6600      2\n",
       "4900      1\n",
       "5,500     1\n",
       "5750      1\n",
       "5600      1\n",
       "4650      1\n",
       "5300      1\n",
       "Name: peak_rpm, dtype: int64"
      ]
     },
     "execution_count": 439,
     "metadata": {},
     "output_type": "execute_result"
    }
   ],
   "source": [
    "carData.peak_rpm.value_counts()"
   ]
  },
  {
   "cell_type": "markdown",
   "id": "2596f727",
   "metadata": {},
   "source": [
    "## Fix peak_rpm\n",
    "\n",
    "it has ',' and k's\n",
    "\n",
    "k should be replace with 1000\n",
    "\n",
    "and ',' should need to be remove\n"
   ]
  },
  {
   "cell_type": "code",
   "execution_count": 440,
   "id": "1c662672",
   "metadata": {},
   "outputs": [],
   "source": [
    "carData['peak_rpm'].replace(to_replace=r',',value='',regex=True,inplace=True)"
   ]
  },
  {
   "cell_type": "code",
   "execution_count": 441,
   "id": "d7284293",
   "metadata": {
    "scrolled": true
   },
   "outputs": [
    {
     "data": {
      "text/plain": [
       "5500    37\n",
       "4800    36\n",
       "5K      27\n",
       "5200    23\n",
       "5400    13\n",
       "6K       9\n",
       "4500     7\n",
       "5800     7\n",
       "5250     7\n",
       "5100     5\n",
       "4150     5\n",
       "4200     5\n",
       "4350     4\n",
       "4750     4\n",
       "5900     3\n",
       "4250     3\n",
       "4400     3\n",
       "6600     2\n",
       "4650     1\n",
       "5600     1\n",
       "5750     1\n",
       "4900     1\n",
       "5300     1\n",
       "Name: peak_rpm, dtype: int64"
      ]
     },
     "execution_count": 441,
     "metadata": {},
     "output_type": "execute_result"
    }
   ],
   "source": [
    "carData.peak_rpm.value_counts()"
   ]
  },
  {
   "cell_type": "code",
   "execution_count": 442,
   "id": "3004a231",
   "metadata": {},
   "outputs": [],
   "source": [
    "carData['peak_rpm'].replace(to_replace=r'K',value='000',regex=True,inplace=True)"
   ]
  },
  {
   "cell_type": "code",
   "execution_count": 443,
   "id": "d4dcbf37",
   "metadata": {},
   "outputs": [
    {
     "data": {
      "text/plain": [
       "car_id\n",
       "1      5000\n",
       "2      5000\n",
       "3      5000\n",
       "4      5500\n",
       "5      5500\n",
       "       ... \n",
       "201    5400\n",
       "202    5300\n",
       "203    5500\n",
       "204    4800\n",
       "205    5400\n",
       "Name: peak_rpm, Length: 205, dtype: int64"
      ]
     },
     "execution_count": 443,
     "metadata": {},
     "output_type": "execute_result"
    }
   ],
   "source": [
    "carData['peak_rpm'].astype('int64')"
   ]
  },
  {
   "cell_type": "code",
   "execution_count": 444,
   "id": "464da51d",
   "metadata": {},
   "outputs": [
    {
     "data": {
      "text/plain": [
       "8921      2\n",
       "9279      2\n",
       "7898      2\n",
       "8916.5    2\n",
       "7775      2\n",
       "         ..\n",
       "45400     1\n",
       "16503     1\n",
       "5389      1\n",
       "6189      1\n",
       "22625     1\n",
       "Name: price, Length: 189, dtype: int64"
      ]
     },
     "execution_count": 444,
     "metadata": {},
     "output_type": "execute_result"
    }
   ],
   "source": [
    "carData.price.value_counts()"
   ]
  },
  {
   "cell_type": "code",
   "execution_count": 445,
   "id": "c0ee2ddd",
   "metadata": {},
   "outputs": [],
   "source": [
    "carData['price'].replace(to_replace=r'K',value='000',regex=True,inplace=True)"
   ]
  },
  {
   "cell_type": "code",
   "execution_count": 446,
   "id": "c000b456",
   "metadata": {},
   "outputs": [
    {
     "data": {
      "text/plain": [
       "car_id\n",
       "1      13495.0\n",
       "2      16500.0\n",
       "3      16500.0\n",
       "4      13950.0\n",
       "5      17450.0\n",
       "        ...   \n",
       "201    16845.0\n",
       "202    19045.0\n",
       "203    21485.0\n",
       "204    22470.0\n",
       "205    22625.0\n",
       "Name: price, Length: 205, dtype: float64"
      ]
     },
     "execution_count": 446,
     "metadata": {},
     "output_type": "execute_result"
    }
   ],
   "source": [
    "carData.price.astype(\"float64\")"
   ]
  },
  {
   "cell_type": "code",
   "execution_count": 447,
   "id": "a8db0989",
   "metadata": {},
   "outputs": [
    {
     "data": {
      "text/plain": [
       "four      159\n",
       "six        24\n",
       "five       11\n",
       "eight       5\n",
       "two         4\n",
       "three       1\n",
       "twelve      1\n",
       "Name: cylinder_number, dtype: int64"
      ]
     },
     "execution_count": 447,
     "metadata": {},
     "output_type": "execute_result"
    }
   ],
   "source": [
    "carData.cylinder_number.value_counts()"
   ]
  },
  {
   "cell_type": "code",
   "execution_count": 448,
   "id": "b54807a3",
   "metadata": {},
   "outputs": [
    {
     "data": {
      "text/plain": [
       "car_id\n",
       "1    four\n",
       "2    four\n",
       "3     six\n",
       "4    four\n",
       "5    five\n",
       "Name: cylinder_number, dtype: object"
      ]
     },
     "execution_count": 448,
     "metadata": {},
     "output_type": "execute_result"
    }
   ],
   "source": [
    "carData.cylinder_number.head()"
   ]
  },
  {
   "cell_type": "code",
   "execution_count": 449,
   "id": "675f1431",
   "metadata": {},
   "outputs": [],
   "source": [
    "carData['cylinder_number'].replace(to_replace='four',value=4,regex=False,inplace=True)\n",
    "carData['cylinder_number'].replace(to_replace='six',value=6,regex=False,inplace=True)\n",
    "carData['cylinder_number'].replace(to_replace='five',value=5,regex=False,inplace=True)\n",
    "carData['cylinder_number'].replace(to_replace='eight',value=8,regex=False,inplace=True)\n",
    "carData['cylinder_number'].replace(to_replace='two',value=2,regex=False,inplace=True)\n",
    "carData['cylinder_number'].replace(to_replace='three',value=3,regex=False,inplace=True)\n",
    "carData['cylinder_number'].replace(to_replace='twelve',value=12,regex=False,inplace=True)\n",
    "\n"
   ]
  },
  {
   "cell_type": "code",
   "execution_count": 450,
   "id": "532ad4a7",
   "metadata": {},
   "outputs": [
    {
     "data": {
      "text/plain": [
       "4     159\n",
       "6      24\n",
       "5      11\n",
       "8       5\n",
       "2       4\n",
       "3       1\n",
       "12      1\n",
       "Name: cylinder_number, dtype: int64"
      ]
     },
     "execution_count": 450,
     "metadata": {},
     "output_type": "execute_result"
    }
   ],
   "source": [
    "carData.cylinder_number.value_counts()"
   ]
  },
  {
   "cell_type": "code",
   "execution_count": 451,
   "id": "7881726a",
   "metadata": {},
   "outputs": [
    {
     "data": {
      "text/plain": [
       "car_id\n",
       "1      4\n",
       "2      4\n",
       "3      6\n",
       "4      4\n",
       "5      5\n",
       "      ..\n",
       "201    4\n",
       "202    4\n",
       "203    6\n",
       "204    6\n",
       "205    4\n",
       "Name: cylinder_number, Length: 205, dtype: int64"
      ]
     },
     "execution_count": 451,
     "metadata": {},
     "output_type": "execute_result"
    }
   ],
   "source": [
    "carData.cylinder_number.astype('int64')"
   ]
  },
  {
   "cell_type": "code",
   "execution_count": 452,
   "id": "ade9ad07",
   "metadata": {
    "scrolled": true
   },
   "outputs": [
    {
     "data": {
      "text/plain": [
       "toyota corona           6\n",
       "toyota corolla          6\n",
       "peugeot 504             6\n",
       "subaru dl               4\n",
       "mitsubishi mirage g4    3\n",
       "                       ..\n",
       "mazda glc 4             1\n",
       "mazda rx2 coupe         1\n",
       "maxda glc deluxe        1\n",
       "maxda rx3               1\n",
       "volvo 246               1\n",
       "Name: car_name, Length: 147, dtype: int64"
      ]
     },
     "execution_count": 452,
     "metadata": {},
     "output_type": "execute_result"
    }
   ],
   "source": [
    "carData.car_name.value_counts()"
   ]
  },
  {
   "cell_type": "code",
   "execution_count": 453,
   "id": "fb57b06f",
   "metadata": {},
   "outputs": [],
   "source": [
    "carData['car_company'] = carData.car_name.apply(lambda x : x.split(' ')[0])"
   ]
  },
  {
   "cell_type": "code",
   "execution_count": 454,
   "id": "95e606e1",
   "metadata": {},
   "outputs": [
    {
     "data": {
      "text/plain": [
       "Index(['symboling', 'car_name', 'fuel_type', 'aspiration', 'door_number',\n",
       "       'car_body', 'drive_wheel', 'engine_location', 'wheel_base',\n",
       "       'car_length', 'car_width', 'car_height', 'curb_weight', 'engine_type',\n",
       "       'cylinder_number', 'engine_size', 'fuel_system', 'bore_ratio', 'stroke',\n",
       "       'compression_ratio', 'horse_power', 'peak_rpm', 'city_mpg',\n",
       "       'highway_mpg', 'price', 'car_company'],\n",
       "      dtype='object')"
      ]
     },
     "execution_count": 454,
     "metadata": {},
     "output_type": "execute_result"
    }
   ],
   "source": [
    "carData.columns"
   ]
  },
  {
   "cell_type": "code",
   "execution_count": 455,
   "id": "de25def6",
   "metadata": {},
   "outputs": [
    {
     "data": {
      "text/plain": [
       "toyota         31\n",
       "nissan         17\n",
       "mazda          15\n",
       "honda          13\n",
       "mitsubishi     13\n",
       "subaru         12\n",
       "peugeot        11\n",
       "volvo          11\n",
       "volkswagen      9\n",
       "dodge           9\n",
       "buick           8\n",
       "bmw             8\n",
       "audi            7\n",
       "plymouth        7\n",
       "saab            6\n",
       "isuzu           4\n",
       "porsche         4\n",
       "alfa-romero     3\n",
       "chevrolet       3\n",
       "jaguar          3\n",
       "vw              2\n",
       "maxda           2\n",
       "renault         2\n",
       "toyouta         1\n",
       "vokswagen       1\n",
       "Nissan          1\n",
       "mercury         1\n",
       "porcshce        1\n",
       "Name: car_company, dtype: int64"
      ]
     },
     "execution_count": 455,
     "metadata": {},
     "output_type": "execute_result"
    }
   ],
   "source": [
    "carData.car_company.value_counts()"
   ]
  },
  {
   "cell_type": "code",
   "execution_count": 456,
   "id": "27e12532",
   "metadata": {},
   "outputs": [],
   "source": [
    "## Replace missplled car names\n",
    "\n",
    "#volkswagen\n",
    "carData.loc[(carData['car_company']=='vw')|(carData['car_company']=='vokswagen'), 'car_company'] = 'volkswagen'"
   ]
  },
  {
   "cell_type": "code",
   "execution_count": 457,
   "id": "663a8bd1",
   "metadata": {},
   "outputs": [
    {
     "data": {
      "text/plain": [
       "toyota         31\n",
       "nissan         17\n",
       "mazda          15\n",
       "honda          13\n",
       "mitsubishi     13\n",
       "subaru         12\n",
       "volkswagen     12\n",
       "peugeot        11\n",
       "volvo          11\n",
       "dodge           9\n",
       "buick           8\n",
       "bmw             8\n",
       "audi            7\n",
       "plymouth        7\n",
       "saab            6\n",
       "porsche         4\n",
       "isuzu           4\n",
       "alfa-romero     3\n",
       "jaguar          3\n",
       "chevrolet       3\n",
       "renault         2\n",
       "maxda           2\n",
       "porcshce        1\n",
       "mercury         1\n",
       "toyouta         1\n",
       "Nissan          1\n",
       "Name: car_company, dtype: int64"
      ]
     },
     "execution_count": 457,
     "metadata": {},
     "output_type": "execute_result"
    }
   ],
   "source": [
    "carData['car_company'].value_counts()"
   ]
  },
  {
   "cell_type": "code",
   "execution_count": 458,
   "id": "8ae07713",
   "metadata": {},
   "outputs": [
    {
     "data": {
      "text/plain": [
       "toyota         31\n",
       "nissan         17\n",
       "mazda          15\n",
       "honda          13\n",
       "mitsubishi     13\n",
       "subaru         12\n",
       "volkswagen     12\n",
       "peugeot        11\n",
       "volvo          11\n",
       "dodge           9\n",
       "buick           8\n",
       "bmw             8\n",
       "audi            7\n",
       "plymouth        7\n",
       "saab            6\n",
       "porsche         4\n",
       "isuzu           4\n",
       "alfa-romero     3\n",
       "jaguar          3\n",
       "chevrolet       3\n",
       "renault         2\n",
       "maxda           2\n",
       "porcshce        1\n",
       "mercury         1\n",
       "toyouta         1\n",
       "Nissan          1\n",
       "Name: car_company, dtype: int64"
      ]
     },
     "execution_count": 458,
     "metadata": {},
     "output_type": "execute_result"
    }
   ],
   "source": [
    "carData.car_company.value_counts()"
   ]
  },
  {
   "cell_type": "code",
   "execution_count": 459,
   "id": "bd298d01",
   "metadata": {},
   "outputs": [],
   "source": [
    "carData['car_company'] = carData['car_company'].apply(lambda x : \"porsche\" if x=='porcshce' else\n",
    "                                                     \"toyota\" if x=='toyouta' else\n",
    "                                                     \"nissan\" if x=='Nissan' else\n",
    "                                                     \"mazda\" if x =='maxda' else x)"
   ]
  },
  {
   "cell_type": "code",
   "execution_count": 460,
   "id": "99524cc4",
   "metadata": {},
   "outputs": [
    {
     "data": {
      "text/plain": [
       "toyota         32\n",
       "nissan         18\n",
       "mazda          17\n",
       "mitsubishi     13\n",
       "honda          13\n",
       "volkswagen     12\n",
       "subaru         12\n",
       "peugeot        11\n",
       "volvo          11\n",
       "dodge           9\n",
       "buick           8\n",
       "bmw             8\n",
       "audi            7\n",
       "plymouth        7\n",
       "saab            6\n",
       "porsche         5\n",
       "isuzu           4\n",
       "jaguar          3\n",
       "chevrolet       3\n",
       "alfa-romero     3\n",
       "renault         2\n",
       "mercury         1\n",
       "Name: car_company, dtype: int64"
      ]
     },
     "execution_count": 460,
     "metadata": {},
     "output_type": "execute_result"
    }
   ],
   "source": [
    "carData['car_company'].value_counts()"
   ]
  },
  {
   "cell_type": "code",
   "execution_count": 461,
   "id": "48ae288d",
   "metadata": {
    "scrolled": false
   },
   "outputs": [
    {
     "data": {
      "text/plain": [
       "toyota         32\n",
       "nissan         18\n",
       "mazda          17\n",
       "mitsubishi     13\n",
       "honda          13\n",
       "volkswagen     12\n",
       "subaru         12\n",
       "peugeot        11\n",
       "volvo          11\n",
       "dodge           9\n",
       "buick           8\n",
       "bmw             8\n",
       "audi            7\n",
       "plymouth        7\n",
       "saab            6\n",
       "porsche         5\n",
       "isuzu           4\n",
       "jaguar          3\n",
       "chevrolet       3\n",
       "alfa-romero     3\n",
       "renault         2\n",
       "mercury         1\n",
       "Name: car_company, dtype: int64"
      ]
     },
     "execution_count": 461,
     "metadata": {},
     "output_type": "execute_result"
    }
   ],
   "source": [
    "carData.car_company.value_counts()"
   ]
  },
  {
   "cell_type": "code",
   "execution_count": 462,
   "id": "130e9591",
   "metadata": {},
   "outputs": [],
   "source": [
    "#carData.drop('car_name',axis=1,inplace=True)"
   ]
  },
  {
   "cell_type": "code",
   "execution_count": 463,
   "id": "ac4280e3",
   "metadata": {},
   "outputs": [
    {
     "data": {
      "text/plain": [
       "(26,\n",
       " Index(['symboling', 'car_name', 'fuel_type', 'aspiration', 'door_number',\n",
       "        'car_body', 'drive_wheel', 'engine_location', 'wheel_base',\n",
       "        'car_length', 'car_width', 'car_height', 'curb_weight', 'engine_type',\n",
       "        'cylinder_number', 'engine_size', 'fuel_system', 'bore_ratio', 'stroke',\n",
       "        'compression_ratio', 'horse_power', 'peak_rpm', 'city_mpg',\n",
       "        'highway_mpg', 'price', 'car_company'],\n",
       "       dtype='object'))"
      ]
     },
     "execution_count": 463,
     "metadata": {},
     "output_type": "execute_result"
    }
   ],
   "source": [
    "len(carData.columns),carData.columns"
   ]
  },
  {
   "cell_type": "code",
   "execution_count": null,
   "id": "d056d2f9",
   "metadata": {},
   "outputs": [],
   "source": []
  }
 ],
 "metadata": {
  "kernelspec": {
   "display_name": "Python 3 (ipykernel)",
   "language": "python",
   "name": "python3"
  },
  "language_info": {
   "codemirror_mode": {
    "name": "ipython",
    "version": 3
   },
   "file_extension": ".py",
   "mimetype": "text/x-python",
   "name": "python",
   "nbconvert_exporter": "python",
   "pygments_lexer": "ipython3",
   "version": "3.9.13"
  }
 },
 "nbformat": 4,
 "nbformat_minor": 5
}
