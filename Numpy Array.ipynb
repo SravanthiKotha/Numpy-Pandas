{
 "cells": [
  {
   "cell_type": "code",
   "execution_count": 3,
   "id": "603bd05f",
   "metadata": {},
   "outputs": [
    {
     "name": "stdout",
     "output_type": "stream",
     "text": [
      "[1, 2, 3, 4, 5, 6, 7, 8, 9, 10, 11, 12, 13, 14, 15, 16, 17, 18, 19, 20, 21, 22, 23, 24, 25, 26, 27, 28, 29, 30, 31, 32, 33, 34, 35, 36, 37, 38, 39, 40]\n"
     ]
    }
   ],
   "source": [
    "list1 = list(range(1,41))\n",
    "\n",
    "print(list1)"
   ]
  },
  {
   "cell_type": "code",
   "execution_count": 8,
   "id": "466d543f",
   "metadata": {},
   "outputs": [
    {
     "name": "stdout",
     "output_type": "stream",
     "text": [
      "[ 1  2  3  4  5  6  7  8  9 10 11 12 13 14 15 16 17 18 19 20 21 22 23 24\n",
      " 25 26 27 28 29 30 31 32 33 34 35 36 37 38 39 40]\n"
     ]
    }
   ],
   "source": [
    "import numpy as np\n",
    "arr = np.array(list1)\n",
    "print(arr)"
   ]
  },
  {
   "cell_type": "code",
   "execution_count": 12,
   "id": "63c77e42",
   "metadata": {},
   "outputs": [
    {
     "name": "stdout",
     "output_type": "stream",
     "text": [
      "(1, 2, 3, 4, 5, 6, 7, 8, 9, 10, 11, 12, 13, 14, 15, 16, 17, 18, 19, 20, 21, 22, 23, 24, 25, 26, 27, 28, 29, 30, 31, 32, 33, 34, 35, 36, 37, 38, 39, 40)\n",
      "[ 1  2  3  4  5  6  7  8  9 10 11 12 13 14 15 16 17 18 19 20 21 22 23 24\n",
      " 25 26 27 28 29 30 31 32 33 34 35 36 37 38 39 40]\n",
      "(40,)\n"
     ]
    }
   ],
   "source": [
    "tpl = tuple(range(1,41))\n",
    "\n",
    "print(tpl)\n",
    "\n",
    "arr = np.array(tpl)\n",
    "\n",
    "print(arr)\n",
    "print(arr.shape)"
   ]
  },
  {
   "cell_type": "code",
   "execution_count": 13,
   "id": "b091b144",
   "metadata": {},
   "outputs": [],
   "source": [
    "## 2D Array"
   ]
  },
  {
   "cell_type": "code",
   "execution_count": 1,
   "id": "658e7a97",
   "metadata": {},
   "outputs": [
    {
     "name": "stdout",
     "output_type": "stream",
     "text": [
      "[[1, 2, 3, 4], [6, 7, 8, 9]]\n"
     ]
    }
   ],
   "source": [
    "list2d = [list(range(1,5)),list(range(6,10))]\n",
    "\n",
    "print(list2d)"
   ]
  },
  {
   "cell_type": "code",
   "execution_count": 27,
   "id": "350e6165",
   "metadata": {},
   "outputs": [
    {
     "name": "stdout",
     "output_type": "stream",
     "text": [
      "<class 'list'>\n"
     ]
    }
   ],
   "source": [
    "print(type(list2d))"
   ]
  },
  {
   "cell_type": "code",
   "execution_count": 3,
   "id": "06b3cf01",
   "metadata": {},
   "outputs": [
    {
     "name": "stdout",
     "output_type": "stream",
     "text": [
      "[[1 2 3 4]\n",
      " [6 7 8 9]]\n"
     ]
    }
   ],
   "source": [
    "\n",
    "import numpy as np\n",
    "arr2d = np.array(list2d)\n",
    "print(arr2d)"
   ]
  },
  {
   "cell_type": "code",
   "execution_count": 7,
   "id": "044c9a58",
   "metadata": {},
   "outputs": [
    {
     "name": "stdout",
     "output_type": "stream",
     "text": [
      "[2 9 3]\n"
     ]
    }
   ],
   "source": [
    "print(arr2d[[0,1,0],[1,3,2]])"
   ]
  },
  {
   "cell_type": "code",
   "execution_count": null,
   "id": "ecd952a9",
   "metadata": {},
   "outputs": [],
   "source": []
  },
  {
   "cell_type": "code",
   "execution_count": 30,
   "id": "ba70c036",
   "metadata": {},
   "outputs": [
    {
     "name": "stdout",
     "output_type": "stream",
     "text": [
      "[0 1 2 3 4 5 6 7 8 9]\n"
     ]
    }
   ],
   "source": [
    "arr = np.arange(10) ## Dynamic array creation\n",
    "\n",
    "print(arr)"
   ]
  },
  {
   "cell_type": "code",
   "execution_count": 31,
   "id": "990a2dd4",
   "metadata": {},
   "outputs": [
    {
     "name": "stdout",
     "output_type": "stream",
     "text": [
      "[ 1  2  3  4  5  6  7  8  9 10]\n"
     ]
    }
   ],
   "source": [
    "arr = np.arange(1,11)\n",
    "\n",
    "print(arr)"
   ]
  },
  {
   "cell_type": "code",
   "execution_count": 32,
   "id": "67cd028b",
   "metadata": {},
   "outputs": [
    {
     "name": "stdout",
     "output_type": "stream",
     "text": [
      "[ 0  5 10 15 20 25 30 35 40 45 50]\n"
     ]
    }
   ],
   "source": [
    "arr = np.arange(0,51,5) ## start value, stop vlaue (exclusive), increment value\n",
    "\n",
    "print(arr)"
   ]
  },
  {
   "cell_type": "code",
   "execution_count": 43,
   "id": "26ac4873",
   "metadata": {},
   "outputs": [
    {
     "name": "stdout",
     "output_type": "stream",
     "text": [
      "[ 1.   5.5 10.  14.5 19.  23.5 28.  32.5 37.  41.5 46.  50.5]\n"
     ]
    }
   ],
   "source": [
    "arr = np.arange(1,51,4.5)\n",
    "\n",
    "print(arr)"
   ]
  },
  {
   "cell_type": "code",
   "execution_count": 39,
   "id": "c49ef3f8",
   "metadata": {},
   "outputs": [
    {
     "name": "stdout",
     "output_type": "stream",
     "text": [
      "[ 1.  10.8 20.6 30.4 40.2 50. ]\n"
     ]
    }
   ],
   "source": [
    "arr = np.linspace(1,50,6) ## start value, stop vlaue (inclusive), no. of elements/data poitns\n",
    "\n",
    "print(arr)"
   ]
  },
  {
   "cell_type": "code",
   "execution_count": 42,
   "id": "23e207db",
   "metadata": {},
   "outputs": [
    {
     "name": "stdout",
     "output_type": "stream",
     "text": [
      "[1. 1. 1. 1. 1. 1.]\n"
     ]
    }
   ],
   "source": [
    "arr = np.ones(6)\n",
    "print(arr)"
   ]
  },
  {
   "cell_type": "code",
   "execution_count": 45,
   "id": "3bd2d4e1",
   "metadata": {},
   "outputs": [
    {
     "name": "stdout",
     "output_type": "stream",
     "text": [
      "[1 1 1 1 1 1]\n"
     ]
    }
   ],
   "source": [
    "arr = np.ones(6,dtype='int')\n",
    "print(arr)"
   ]
  },
  {
   "cell_type": "code",
   "execution_count": 46,
   "id": "072e979d",
   "metadata": {},
   "outputs": [
    {
     "name": "stdout",
     "output_type": "stream",
     "text": [
      "[0 0 0 0 0 0]\n"
     ]
    }
   ],
   "source": [
    "arr = np.zeros(6,dtype='int')\n",
    "print(arr)"
   ]
  },
  {
   "cell_type": "code",
   "execution_count": 49,
   "id": "ea5a7eae",
   "metadata": {},
   "outputs": [
    {
     "name": "stdout",
     "output_type": "stream",
     "text": [
      "[[0 0 0 0 0 0 0]\n",
      " [0 0 0 0 0 0 0]\n",
      " [0 0 0 0 0 0 0]\n",
      " [0 0 0 0 0 0 0]\n",
      " [0 0 0 0 0 0 0]\n",
      " [0 0 0 0 0 0 0]]\n"
     ]
    }
   ],
   "source": [
    "arr = np.zeros((6,7),dtype='int')\n",
    "print(arr)"
   ]
  },
  {
   "cell_type": "code",
   "execution_count": 50,
   "id": "b180fbff",
   "metadata": {},
   "outputs": [
    {
     "name": "stdout",
     "output_type": "stream",
     "text": [
      "[[1. 1. 1.]\n",
      " [1. 1. 1.]\n",
      " [1. 1. 1.]]\n"
     ]
    }
   ],
   "source": [
    "arr = np.ones((3,3))\n",
    "\n",
    "print(arr)"
   ]
  },
  {
   "cell_type": "code",
   "execution_count": 52,
   "id": "67d65f09",
   "metadata": {},
   "outputs": [
    {
     "name": "stdout",
     "output_type": "stream",
     "text": [
      "[[4 4 4]\n",
      " [4 4 4]]\n"
     ]
    }
   ],
   "source": [
    "arr = np.full((2,3),4)\n",
    "\n",
    "print(arr)"
   ]
  },
  {
   "cell_type": "code",
   "execution_count": 58,
   "id": "f532c675",
   "metadata": {},
   "outputs": [
    {
     "name": "stdout",
     "output_type": "stream",
     "text": [
      "[[3 0 0 0]\n",
      " [0 7 0 0]\n",
      " [0 0 2 0]\n",
      " [0 0 0 6]]\n"
     ]
    }
   ],
   "source": [
    "arr = np.diag([3,7,2,6])\n",
    "\n",
    "print(arr)"
   ]
  },
  {
   "cell_type": "code",
   "execution_count": 62,
   "id": "b22afff0",
   "metadata": {},
   "outputs": [
    {
     "name": "stdout",
     "output_type": "stream",
     "text": [
      "[[1 0 0 0 0]\n",
      " [0 1 0 0 0]\n",
      " [0 0 1 0 0]\n",
      " [0 0 0 1 0]\n",
      " [0 0 0 0 1]]\n"
     ]
    }
   ],
   "source": [
    "arr = np.eye(5, dtype='int')\n",
    "\n",
    "print(arr)"
   ]
  },
  {
   "cell_type": "code",
   "execution_count": 63,
   "id": "fcee9b9c",
   "metadata": {},
   "outputs": [
    {
     "name": "stdout",
     "output_type": "stream",
     "text": [
      "[0.43389818 0.07156506 0.28899487 0.74281369 0.32473622]\n"
     ]
    }
   ],
   "source": [
    "arr =np.random.random(5)\n",
    "\n",
    "print(arr)"
   ]
  },
  {
   "cell_type": "code",
   "execution_count": 64,
   "id": "a54936ba",
   "metadata": {},
   "outputs": [
    {
     "name": "stdout",
     "output_type": "stream",
     "text": [
      "[[0.60937809 0.13453108 0.29051433 0.47721492 0.78280654]\n",
      " [0.8996066  0.95689671 0.04816369 0.87868084 0.67768642]]\n"
     ]
    }
   ],
   "source": [
    "arr =np.random.random((2,5))\n",
    "\n",
    "print(arr)"
   ]
  },
  {
   "cell_type": "code",
   "execution_count": 81,
   "id": "0fe9fa03",
   "metadata": {},
   "outputs": [
    {
     "name": "stdout",
     "output_type": "stream",
     "text": [
      "[[0.13 0.35 0.92 0.75 0.09]\n",
      " [0.54 0.71 0.56 0.47 0.96]]\n"
     ]
    }
   ],
   "source": [
    "arr =np.random.random((2,5))\n",
    "\n",
    "print(arr)"
   ]
  },
  {
   "cell_type": "code",
   "execution_count": 68,
   "id": "707c8782",
   "metadata": {},
   "outputs": [
    {
     "name": "stdout",
     "output_type": "stream",
     "text": [
      "2\n"
     ]
    }
   ],
   "source": [
    "arr = np.random.randint(7)\n",
    "\n",
    "print(arr)"
   ]
  },
  {
   "cell_type": "code",
   "execution_count": 83,
   "id": "a5d3c8c7",
   "metadata": {},
   "outputs": [
    {
     "name": "stdout",
     "output_type": "stream",
     "text": [
      "[[34 67 89 88 28  9 56 74]\n",
      " [22 51  7 99 25  1 68 57]\n",
      " [15 22 46 90  8 86 75 13]\n",
      " [67 70 81 64 23 75 32  5]\n",
      " [57 95  1 38 57 94 29 12]\n",
      " [28 91 24 60 51  4 37  6]\n",
      " [61 91 65 60  2 39 86 91]\n",
      " [27 37 47  4 58 22  9 51]\n",
      " [16 51 89  1 52  6 99 19]\n",
      " [39 68 65 88 75 28 59 28]\n",
      " [80 66 33 95  3 85 83 45]\n",
      " [14 14 34  6 73  4 62  6]\n",
      " [72  8 38 59 97 44 50 92]\n",
      " [88 60 71 84 56 62 87 49]]\n"
     ]
    }
   ],
   "source": [
    "arr = np.random.randint(1,100,size=(14,8))\n",
    "\n",
    "print(arr)"
   ]
  },
  {
   "cell_type": "code",
   "execution_count": 6,
   "id": "d65a74c4",
   "metadata": {
    "ExecuteTime": {
     "end_time": "2022-09-23T10:42:24.642369Z",
     "start_time": "2022-09-23T10:42:24.634911Z"
    }
   },
   "outputs": [
    {
     "name": "stdout",
     "output_type": "stream",
     "text": [
      "[[1. 1.]\n",
      " [1. 1.]\n",
      " [1. 1.]\n",
      " [1. 1.]]\n"
     ]
    }
   ],
   "source": [
    "import numpy as np\n",
    "\n",
    "arr = np.ones((4,2))\n",
    "\n",
    "print(arr)"
   ]
  },
  {
   "cell_type": "code",
   "execution_count": 10,
   "id": "5ea0452c",
   "metadata": {
    "ExecuteTime": {
     "end_time": "2022-09-23T12:06:47.284243Z",
     "start_time": "2022-09-23T12:06:47.271706Z"
    }
   },
   "outputs": [
    {
     "name": "stdout",
     "output_type": "stream",
     "text": [
      "[         0          1          4 ... 1409465417 1409665412 1409865409]\n",
      "CPU times: total: 0 ns\n",
      "Wall time: 537 µs\n"
     ]
    }
   ],
   "source": [
    "%%time\n",
    "\n",
    "import numpy as np\n",
    "\n",
    "arr = np.arange(100000)\n",
    "\n",
    "arr = arr*arr\n",
    "print(arr)"
   ]
  },
  {
   "cell_type": "code",
   "execution_count": null,
   "id": "ac5e1b2e",
   "metadata": {},
   "outputs": [],
   "source": []
  },
  {
   "cell_type": "code",
   "execution_count": 11,
   "id": "3044286f",
   "metadata": {
    "ExecuteTime": {
     "end_time": "2022-09-23T12:06:48.906269Z",
     "start_time": "2022-09-23T12:06:48.899262Z"
    }
   },
   "outputs": [
    {
     "name": "stdout",
     "output_type": "stream",
     "text": [
      "[ 1.  3.  4.  5.  7.  8. -3.]\n",
      "float64\n"
     ]
    }
   ],
   "source": [
    "arr = np.array([1,3,4,5,7,8.0,-3])\n",
    "\n",
    "print(arr)\n",
    "\n",
    "print(arr.dtype)# Indexing and Broadcasting\n",
    "\n",
    "\n"
   ]
  },
  {
   "cell_type": "markdown",
   "id": "2f71bcb1",
   "metadata": {
    "ExecuteTime": {
     "end_time": "2022-09-23T12:06:19.830283Z",
     "start_time": "2022-09-23T12:06:19.814982Z"
    },
    "code_folding": []
   },
   "source": [
    "# Indexing and Broadcasting"
   ]
  },
  {
   "cell_type": "code",
   "execution_count": 12,
   "id": "118125bb",
   "metadata": {
    "ExecuteTime": {
     "end_time": "2022-09-23T12:06:50.137336Z",
     "start_time": "2022-09-23T12:06:50.119618Z"
    }
   },
   "outputs": [
    {
     "name": "stdout",
     "output_type": "stream",
     "text": [
      "[0 1 2 3 4 5 6 7 8 9]\n",
      "3\n",
      "[ 0  3  6  9 12 15 18 21 24 27]\n",
      "9\n"
     ]
    }
   ],
   "source": [
    "arr = np.arange(10)\n",
    "\n",
    "print(arr)\n",
    "\n",
    "print(arr[3])\n",
    "\n",
    "arr = 3*arr\n",
    "print(arr)\n",
    "\n",
    "print(arr[3])\n"
   ]
  },
  {
   "cell_type": "code",
   "execution_count": 21,
   "id": "406d25bd",
   "metadata": {
    "ExecuteTime": {
     "end_time": "2022-09-23T12:07:06.108199Z",
     "start_time": "2022-09-23T12:07:06.087837Z"
    }
   },
   "outputs": [
    {
     "name": "stdout",
     "output_type": "stream",
     "text": [
      "[[ 1  2  3  4]\n",
      " [ 5  6  7  8]\n",
      " [ 9 10 11 12]]\n",
      "7\n",
      "7\n"
     ]
    }
   ],
   "source": [
    "arr = np.array([[1,2,3,4],[5,6,7,8],[9,10,11,12]])\n",
    "\n",
    "print(arr)\n",
    "\n",
    "print(arr[1][2])\n",
    "\n",
    "print(arr[1,2])"
   ]
  },
  {
   "cell_type": "code",
   "execution_count": 22,
   "id": "8b551301",
   "metadata": {
    "ExecuteTime": {
     "end_time": "2022-09-23T12:07:14.563331Z",
     "start_time": "2022-09-23T12:07:14.556946Z"
    }
   },
   "outputs": [
    {
     "name": "stdout",
     "output_type": "stream",
     "text": [
      "[[ 1  2  3  4]\n",
      " [ 5  6  8  8]\n",
      " [ 9 10 11 12]]\n",
      "int32\n"
     ]
    }
   ],
   "source": [
    "arr[1,2] = 8.0\n",
    "\n",
    "print(arr)\n",
    "\n",
    "print(arr.dtype)"
   ]
  },
  {
   "cell_type": "code",
   "execution_count": 23,
   "id": "4e927cd1",
   "metadata": {
    "ExecuteTime": {
     "end_time": "2022-09-23T12:15:00.467997Z",
     "start_time": "2022-09-23T12:15:00.449208Z"
    }
   },
   "outputs": [
    {
     "name": "stdout",
     "output_type": "stream",
     "text": [
      "[[ 1  2  3  4]\n",
      " [ 9 10 11 12]]\n"
     ]
    }
   ],
   "source": [
    "print(arr[::2])"
   ]
  },
  {
   "cell_type": "code",
   "execution_count": 24,
   "id": "611f184f",
   "metadata": {
    "ExecuteTime": {
     "end_time": "2022-09-23T12:15:30.069424Z",
     "start_time": "2022-09-23T12:15:30.056374Z"
    }
   },
   "outputs": [
    {
     "name": "stdout",
     "output_type": "stream",
     "text": [
      "[[ 1  2  3  4]\n",
      " [ 5  6  8  8]\n",
      " [ 9 10 11 12]]\n"
     ]
    }
   ],
   "source": [
    "print(arr[0:3])"
   ]
  },
  {
   "cell_type": "code",
   "execution_count": 25,
   "id": "08774872",
   "metadata": {},
   "outputs": [
    {
     "name": "stdout",
     "output_type": "stream",
     "text": [
      "[[1 2 3 4]\n",
      " [5 6 8 8]]\n"
     ]
    }
   ],
   "source": [
    "print(arr[0:-1])"
   ]
  },
  {
   "cell_type": "code",
   "execution_count": 26,
   "id": "cc3ebe84",
   "metadata": {},
   "outputs": [
    {
     "name": "stdout",
     "output_type": "stream",
     "text": [
      "[[2 3]\n",
      " [6 8]]\n"
     ]
    }
   ],
   "source": [
    "print(arr[:2,1:3])"
   ]
  },
  {
   "cell_type": "code",
   "execution_count": 27,
   "id": "b13e78b9",
   "metadata": {},
   "outputs": [
    {
     "name": "stdout",
     "output_type": "stream",
     "text": [
      "[[5 6 8 8]]\n"
     ]
    }
   ],
   "source": [
    "print(arr[1:2,:])"
   ]
  },
  {
   "cell_type": "code",
   "execution_count": 32,
   "id": "cfa9c4ef",
   "metadata": {},
   "outputs": [
    {
     "name": "stdout",
     "output_type": "stream",
     "text": [
      "[1 6 9]\n"
     ]
    }
   ],
   "source": [
    "print(arr[[0,1,2],[0,1,0]])"
   ]
  },
  {
   "cell_type": "markdown",
   "id": "6d41d08e",
   "metadata": {},
   "source": [
    "## Numpy Maths"
   ]
  },
  {
   "cell_type": "code",
   "execution_count": 53,
   "id": "82c67443",
   "metadata": {},
   "outputs": [
    {
     "name": "stdout",
     "output_type": "stream",
     "text": [
      "addition of 2 arrays: \n",
      "[[ 4  6]\n",
      " [12 14]]\n",
      "\n",
      "\n",
      "Substraction of 2 arrays: \n",
      "[[-2 -2]\n",
      " [-2 -2]]\n",
      "\n",
      "\n",
      "Multiplication of 2 arrays: \n",
      "[[ 3  8]\n",
      " [35 48]]\n",
      "\n",
      "\n",
      "Division of 2 arrays: \n",
      "[[0.33333333 0.5       ]\n",
      " [0.71428571 0.75      ]]\n"
     ]
    }
   ],
   "source": [
    "## element Wise operations\n",
    "\n",
    "x = np.array([[1,2],[5,6]])\n",
    "y = np.array([[3,4],[7,8]])\n",
    "\n",
    "print(\"addition of 2 arrays: \")\n",
    "print(np.add(x,y),end=\"\\n\"*3)\n",
    "print(\"Substraction of 2 arrays: \")\n",
    "print(np.subtract(x,y),end=\"\\n\"*3)\n",
    "print(\"Multiplication of 2 arrays: \")\n",
    "print(np.multiply(x,y),end=\"\\n\"*3)\n",
    "print(\"Division of 2 arrays: \")\n",
    "print(np.divide(x,y))"
   ]
  },
  {
   "cell_type": "code",
   "execution_count": 54,
   "id": "b1550a01",
   "metadata": {},
   "outputs": [
    {
     "data": {
      "text/plain": [
       "array([[17, 20],\n",
       "       [57, 68]])"
      ]
     },
     "execution_count": 54,
     "metadata": {},
     "output_type": "execute_result"
    }
   ],
   "source": [
    "np.matmul(x,y)"
   ]
  },
  {
   "cell_type": "code",
   "execution_count": 55,
   "id": "3f05f0cd",
   "metadata": {},
   "outputs": [
    {
     "data": {
      "text/plain": [
       "array([[17, 20],\n",
       "       [57, 68]])"
      ]
     },
     "execution_count": 55,
     "metadata": {},
     "output_type": "execute_result"
    }
   ],
   "source": [
    "np.dot(x,y)"
   ]
  },
  {
   "cell_type": "code",
   "execution_count": 56,
   "id": "389570a1",
   "metadata": {},
   "outputs": [
    {
     "data": {
      "text/plain": [
       "14"
      ]
     },
     "execution_count": 56,
     "metadata": {},
     "output_type": "execute_result"
    }
   ],
   "source": [
    "np.sum(x)"
   ]
  },
  {
   "cell_type": "code",
   "execution_count": 59,
   "id": "4e86e6c9",
   "metadata": {},
   "outputs": [
    {
     "data": {
      "text/plain": [
       "array([[1, 2],\n",
       "       [5, 6]])"
      ]
     },
     "execution_count": 59,
     "metadata": {},
     "output_type": "execute_result"
    }
   ],
   "source": [
    "x"
   ]
  },
  {
   "cell_type": "code",
   "execution_count": 57,
   "id": "1745d0dd",
   "metadata": {},
   "outputs": [
    {
     "data": {
      "text/plain": [
       "array([6, 8])"
      ]
     },
     "execution_count": 57,
     "metadata": {},
     "output_type": "execute_result"
    }
   ],
   "source": [
    "np.sum(x,axis=0)"
   ]
  },
  {
   "cell_type": "code",
   "execution_count": 58,
   "id": "e9f4d852",
   "metadata": {},
   "outputs": [
    {
     "data": {
      "text/plain": [
       "array([ 3, 11])"
      ]
     },
     "execution_count": 58,
     "metadata": {},
     "output_type": "execute_result"
    }
   ],
   "source": [
    "np.sum(x,axis=1)"
   ]
  },
  {
   "cell_type": "code",
   "execution_count": 145,
   "id": "10085c27",
   "metadata": {
    "scrolled": true
   },
   "outputs": [
    {
     "name": "stdout",
     "output_type": "stream",
     "text": [
      "[[ 6  8]\n",
      " [10 12]]\n",
      "[[14 16]\n",
      " [16 18]]\n",
      "[[4 5]\n",
      " [6 7]]\n"
     ]
    },
    {
     "ename": "ValueError",
     "evalue": "operands could not be broadcast together with shapes (2,2) (4,) ",
     "output_type": "error",
     "traceback": [
      "\u001b[1;31m---------------------------------------------------------------------------\u001b[0m",
      "\u001b[1;31mValueError\u001b[0m                                Traceback (most recent call last)",
      "Input \u001b[1;32mIn [145]\u001b[0m, in \u001b[0;36m<cell line: 17>\u001b[1;34m()\u001b[0m\n\u001b[0;32m     13\u001b[0m \u001b[38;5;28mprint\u001b[39m(np\u001b[38;5;241m.\u001b[39madd(b,c))\n\u001b[0;32m     15\u001b[0m \u001b[38;5;28mprint\u001b[39m(np\u001b[38;5;241m.\u001b[39madd(a,d))\n\u001b[1;32m---> 17\u001b[0m \u001b[38;5;28mprint\u001b[39m(\u001b[43mnp\u001b[49m\u001b[38;5;241;43m.\u001b[39;49m\u001b[43madd\u001b[49m\u001b[43m(\u001b[49m\u001b[43ma\u001b[49m\u001b[43m,\u001b[49m\u001b[43me\u001b[49m\u001b[43m)\u001b[49m)\n",
      "\u001b[1;31mValueError\u001b[0m: operands could not be broadcast together with shapes (2,2) (4,) "
     ]
    }
   ],
   "source": [
    "a = np.array([[1,2],[3,4]])\n",
    "\n",
    "b = np.array([[5,6],[7,8]])\n",
    "\n",
    "c = np.array([9,10])\n",
    "\n",
    "d= np.array([3])\n",
    "\n",
    "e = np.array([3,4,5,6])\n",
    "\n",
    "print(np.add(a,b))\n",
    "\n",
    "print(np.add(b,c))\n",
    "\n",
    "print(np.add(a,d))\n",
    "\n",
    "print(np.add(a,e))"
   ]
  },
  {
   "cell_type": "code",
   "execution_count": null,
   "id": "0e3c0a21",
   "metadata": {},
   "outputs": [],
   "source": []
  },
  {
   "cell_type": "code",
   "execution_count": null,
   "id": "96a6a370",
   "metadata": {},
   "outputs": [],
   "source": []
  },
  {
   "cell_type": "code",
   "execution_count": null,
   "id": "e6944271",
   "metadata": {},
   "outputs": [],
   "source": []
  },
  {
   "cell_type": "code",
   "execution_count": null,
   "id": "9abbd651",
   "metadata": {},
   "outputs": [],
   "source": []
  },
  {
   "cell_type": "code",
   "execution_count": 60,
   "id": "3a17d65b",
   "metadata": {},
   "outputs": [
    {
     "data": {
      "text/plain": [
       "6"
      ]
     },
     "execution_count": 60,
     "metadata": {},
     "output_type": "execute_result"
    }
   ],
   "source": [
    "np.max(x)"
   ]
  },
  {
   "cell_type": "code",
   "execution_count": 61,
   "id": "23e35e6f",
   "metadata": {},
   "outputs": [
    {
     "data": {
      "text/plain": [
       "1"
      ]
     },
     "execution_count": 61,
     "metadata": {},
     "output_type": "execute_result"
    }
   ],
   "source": [
    "np.min(x)"
   ]
  },
  {
   "cell_type": "code",
   "execution_count": 62,
   "id": "cf852ade",
   "metadata": {},
   "outputs": [
    {
     "name": "stdout",
     "output_type": "stream",
     "text": [
      "[[1 2]\n",
      " [5 6]]\n",
      "******************************************************************************************\n",
      "[[1 5]\n",
      " [2 6]]\n"
     ]
    }
   ],
   "source": [
    "print(x)\n",
    "\n",
    "print(\"*\"*90)\n",
    "\n",
    "print(x.T)"
   ]
  },
  {
   "cell_type": "code",
   "execution_count": 68,
   "id": "e2f409a4",
   "metadata": {},
   "outputs": [
    {
     "name": "stdout",
     "output_type": "stream",
     "text": [
      "[[ 35  26  53]\n",
      " [ 80  65 131]\n",
      " [ 93  88 172]]\n"
     ]
    }
   ],
   "source": [
    "a = np.array([[1,2,3],[4,5,6],[8,7,5]])\n",
    "\n",
    "b = np.array([[2,3,8],[6,7,9],[7,3,9]])\n",
    "\n",
    "print(np.dot(a,b))\n",
    "              \n",
    "              "
   ]
  },
  {
   "cell_type": "code",
   "execution_count": 69,
   "id": "ca558af3",
   "metadata": {},
   "outputs": [
    {
     "name": "stdout",
     "output_type": "stream",
     "text": [
      "[1 2 3]\n"
     ]
    }
   ],
   "source": [
    "print(np.min(a,axis=0))"
   ]
  },
  {
   "cell_type": "code",
   "execution_count": 71,
   "id": "0121d167",
   "metadata": {},
   "outputs": [
    {
     "name": "stdout",
     "output_type": "stream",
     "text": [
      "[8 7 6]\n"
     ]
    }
   ],
   "source": [
    "print(np.max(a,axis=0))"
   ]
  },
  {
   "cell_type": "code",
   "execution_count": 72,
   "id": "d1a23b00",
   "metadata": {},
   "outputs": [
    {
     "data": {
      "text/plain": [
       "array([[1, 4, 8],\n",
       "       [2, 5, 7],\n",
       "       [3, 6, 5]])"
      ]
     },
     "execution_count": 72,
     "metadata": {},
     "output_type": "execute_result"
    }
   ],
   "source": [
    "a.T"
   ]
  },
  {
   "cell_type": "code",
   "execution_count": 73,
   "id": "b39405fd",
   "metadata": {},
   "outputs": [
    {
     "name": "stdout",
     "output_type": "stream",
     "text": [
      "[[1 2 3]\n",
      " [4 5 6]]\n",
      "************************************************************\n",
      "[[1 4]\n",
      " [2 5]\n",
      " [3 6]]\n"
     ]
    }
   ],
   "source": [
    "a = np.array([[1,2,3],[4,5,6]])\n",
    "\n",
    "print(a)\n",
    "print(\"*\"*60)\n",
    "print(a.T)"
   ]
  },
  {
   "cell_type": "code",
   "execution_count": 85,
   "id": "82dd7ce7",
   "metadata": {},
   "outputs": [
    {
     "name": "stdout",
     "output_type": "stream",
     "text": [
      "[ 1  6 11 16 21 26 31 36 41 46]\n",
      "10\n"
     ]
    }
   ],
   "source": [
    "arr = np.arange(1,50,5)\n",
    "\n",
    "print(arr)\n",
    "\n",
    "\n",
    "print(len(arr))\n",
    "\n"
   ]
  },
  {
   "cell_type": "code",
   "execution_count": 86,
   "id": "df874c53",
   "metadata": {},
   "outputs": [
    {
     "name": "stdout",
     "output_type": "stream",
     "text": [
      "[[ 1  6 11 16 21 26 31 36 41 46]]\n"
     ]
    }
   ],
   "source": [
    "print(arr.reshape(1,10))"
   ]
  },
  {
   "cell_type": "code",
   "execution_count": 87,
   "id": "e16fb854",
   "metadata": {},
   "outputs": [
    {
     "name": "stdout",
     "output_type": "stream",
     "text": [
      "[[ 1  6 11 16 21]\n",
      " [26 31 36 41 46]]\n"
     ]
    }
   ],
   "source": [
    "print(arr.reshape(2,5))"
   ]
  },
  {
   "cell_type": "code",
   "execution_count": 88,
   "id": "a5a0466f",
   "metadata": {},
   "outputs": [
    {
     "name": "stdout",
     "output_type": "stream",
     "text": [
      "[[ 1  6]\n",
      " [11 16]\n",
      " [21 26]\n",
      " [31 36]\n",
      " [41 46]]\n"
     ]
    }
   ],
   "source": [
    "print(arr.reshape(5,2))"
   ]
  },
  {
   "cell_type": "code",
   "execution_count": 89,
   "id": "9985e944",
   "metadata": {},
   "outputs": [
    {
     "name": "stdout",
     "output_type": "stream",
     "text": [
      "[[ 1]\n",
      " [ 6]\n",
      " [11]\n",
      " [16]\n",
      " [21]\n",
      " [26]\n",
      " [31]\n",
      " [36]\n",
      " [41]\n",
      " [46]]\n"
     ]
    }
   ],
   "source": [
    "print(arr.reshape(10,1))"
   ]
  },
  {
   "cell_type": "code",
   "execution_count": 90,
   "id": "b9642a7a",
   "metadata": {},
   "outputs": [
    {
     "ename": "ValueError",
     "evalue": "cannot reshape array of size 10 into shape (3,3)",
     "output_type": "error",
     "traceback": [
      "\u001b[1;31m---------------------------------------------------------------------------\u001b[0m",
      "\u001b[1;31mValueError\u001b[0m                                Traceback (most recent call last)",
      "Input \u001b[1;32mIn [90]\u001b[0m, in \u001b[0;36m<cell line: 1>\u001b[1;34m()\u001b[0m\n\u001b[1;32m----> 1\u001b[0m \u001b[38;5;28mprint\u001b[39m(\u001b[43marr\u001b[49m\u001b[38;5;241;43m.\u001b[39;49m\u001b[43mreshape\u001b[49m\u001b[43m(\u001b[49m\u001b[38;5;241;43m3\u001b[39;49m\u001b[43m,\u001b[49m\u001b[38;5;241;43m3\u001b[39;49m\u001b[43m)\u001b[49m)\n",
      "\u001b[1;31mValueError\u001b[0m: cannot reshape array of size 10 into shape (3,3)"
     ]
    }
   ],
   "source": [
    "print(arr.reshape(3,3))"
   ]
  },
  {
   "cell_type": "code",
   "execution_count": 94,
   "id": "3d800811",
   "metadata": {},
   "outputs": [
    {
     "name": "stdout",
     "output_type": "stream",
     "text": [
      "[[[ 1  6 11 16 21]]\n",
      "\n",
      " [[26 31 36 41 46]]]\n",
      "(2, 1, 5)\n",
      "10\n",
      "3\n"
     ]
    }
   ],
   "source": [
    "a = arr.reshape(2,1,5)\n",
    "\n",
    "print(a)\n",
    "print(a.shape)\n",
    "print(a.size)\n",
    "\n",
    "print(a.ndim)"
   ]
  },
  {
   "cell_type": "code",
   "execution_count": 95,
   "id": "4bf83450",
   "metadata": {},
   "outputs": [
    {
     "data": {
      "text/plain": [
       "0.8996365817191051"
      ]
     },
     "execution_count": 95,
     "metadata": {},
     "output_type": "execute_result"
    }
   ],
   "source": [
    "np.random.random()"
   ]
  },
  {
   "cell_type": "code",
   "execution_count": 96,
   "id": "8e3770c5",
   "metadata": {},
   "outputs": [
    {
     "data": {
      "text/plain": [
       "array([0.36532779, 0.95017775, 0.41632038, 0.34564017, 0.33684178,\n",
       "       0.27133115, 0.98841022, 0.62468464, 0.39254657, 0.07909722])"
      ]
     },
     "execution_count": 96,
     "metadata": {},
     "output_type": "execute_result"
    }
   ],
   "source": [
    "np.random.random(10)"
   ]
  },
  {
   "cell_type": "code",
   "execution_count": 108,
   "id": "eac8fc32",
   "metadata": {},
   "outputs": [
    {
     "ename": "TypeError",
     "evalue": "random() got multiple values for keyword argument 'size'",
     "output_type": "error",
     "traceback": [
      "\u001b[1;31m---------------------------------------------------------------------------\u001b[0m",
      "\u001b[1;31mTypeError\u001b[0m                                 Traceback (most recent call last)",
      "Input \u001b[1;32mIn [108]\u001b[0m, in \u001b[0;36m<cell line: 1>\u001b[1;34m()\u001b[0m\n\u001b[1;32m----> 1\u001b[0m \u001b[43mnp\u001b[49m\u001b[38;5;241;43m.\u001b[39;49m\u001b[43mrandom\u001b[49m\u001b[38;5;241;43m.\u001b[39;49m\u001b[43mrandom\u001b[49m\u001b[43m(\u001b[49m\u001b[38;5;241;43m10\u001b[39;49m\u001b[43m,\u001b[49m\u001b[43msize\u001b[49m\u001b[38;5;241;43m=\u001b[39;49m\u001b[43m(\u001b[49m\u001b[38;5;241;43m2\u001b[39;49m\u001b[43m,\u001b[49m\u001b[38;5;241;43m5\u001b[39;49m\u001b[43m)\u001b[49m\u001b[43m)\u001b[49m\n",
      "File \u001b[1;32mmtrand.pyx:427\u001b[0m, in \u001b[0;36mnumpy.random.mtrand.RandomState.random\u001b[1;34m()\u001b[0m\n",
      "\u001b[1;31mTypeError\u001b[0m: random() got multiple values for keyword argument 'size'"
     ]
    }
   ],
   "source": [
    "np.random.random(10,size=(2,5))"
   ]
  },
  {
   "cell_type": "code",
   "execution_count": 103,
   "id": "e4213ce1",
   "metadata": {},
   "outputs": [
    {
     "data": {
      "text/plain": [
       "array([[7, 3, 3, 4],\n",
       "       [6, 4, 5, 5],\n",
       "       [5, 1, 5, 9],\n",
       "       [0, 1, 0, 6],\n",
       "       [2, 6, 3, 9]])"
      ]
     },
     "execution_count": 103,
     "metadata": {},
     "output_type": "execute_result"
    }
   ],
   "source": [
    "np.random.randint(10)"
   ]
  },
  {
   "cell_type": "code",
   "execution_count": 115,
   "id": "3fc7b8f8",
   "metadata": {},
   "outputs": [
    {
     "name": "stdout",
     "output_type": "stream",
     "text": [
      "[[6 1 2 7 3 6]\n",
      " [6 2 6 2 7 7]\n",
      " [4 0 0 6 6 3]\n",
      " [0 5 4 3 7 6]]\n"
     ]
    }
   ],
   "source": [
    "arr1=np.random.randint(8,size=(4,6))\n",
    "\n",
    "print(arr1)"
   ]
  },
  {
   "cell_type": "code",
   "execution_count": 109,
   "id": "93636619",
   "metadata": {},
   "outputs": [
    {
     "data": {
      "text/plain": [
       "array([[1.        , 0.97026036],\n",
       "       [0.97026036, 1.        ]])"
      ]
     },
     "execution_count": 109,
     "metadata": {},
     "output_type": "execute_result"
    }
   ],
   "source": [
    "height = np.array([160,150,78,65])\n",
    "\n",
    "weight = np.array([95,68,25,22])\n",
    "\n",
    "np.corrcoef(height,weight)"
   ]
  },
  {
   "cell_type": "code",
   "execution_count": null,
   "id": "c4bc4570",
   "metadata": {},
   "outputs": [],
   "source": []
  },
  {
   "cell_type": "code",
   "execution_count": 113,
   "id": "d5531422",
   "metadata": {},
   "outputs": [
    {
     "data": {
      "text/plain": [
       "array([28780])"
      ]
     },
     "execution_count": 113,
     "metadata": {},
     "output_type": "execute_result"
    }
   ],
   "source": [
    "np.correlate(height,weight,mode='valid')"
   ]
  },
  {
   "cell_type": "code",
   "execution_count": 114,
   "id": "5d80c231",
   "metadata": {},
   "outputs": [
    {
     "name": "stdout",
     "output_type": "stream",
     "text": [
      "[ 1.  2.  3.  4.  5.  6.  7.  8.  9. 10.]\n"
     ]
    }
   ],
   "source": [
    "ls = np.linspace(1,10,10)\n",
    "\n",
    "print(ls)"
   ]
  },
  {
   "cell_type": "code",
   "execution_count": 116,
   "id": "e014559e",
   "metadata": {},
   "outputs": [
    {
     "name": "stdout",
     "output_type": "stream",
     "text": [
      "[[6 1 2 7 3 6]\n",
      " [6 2 6 2 7 7]\n",
      " [4 0 0 6 6 3]\n",
      " [0 5 4 3 7 6]]\n"
     ]
    }
   ],
   "source": [
    " print(arr1)"
   ]
  },
  {
   "cell_type": "code",
   "execution_count": 117,
   "id": "9e3ef3f5",
   "metadata": {},
   "outputs": [
    {
     "data": {
      "text/plain": [
       "array([[1, 2, 3, 6, 6, 7],\n",
       "       [2, 2, 6, 6, 7, 7],\n",
       "       [0, 0, 3, 4, 6, 6],\n",
       "       [0, 3, 4, 5, 6, 7]])"
      ]
     },
     "execution_count": 117,
     "metadata": {},
     "output_type": "execute_result"
    }
   ],
   "source": [
    "np.sort(arr1)"
   ]
  },
  {
   "cell_type": "code",
   "execution_count": 119,
   "id": "98a3c7d0",
   "metadata": {},
   "outputs": [
    {
     "data": {
      "text/plain": [
       "array([[0, 0, 0, 2, 3, 3],\n",
       "       [4, 1, 2, 3, 6, 6],\n",
       "       [6, 2, 4, 6, 7, 6],\n",
       "       [6, 5, 6, 7, 7, 7]])"
      ]
     },
     "execution_count": 119,
     "metadata": {},
     "output_type": "execute_result"
    }
   ],
   "source": [
    "np.sort(arr1,axis=0)"
   ]
  },
  {
   "cell_type": "code",
   "execution_count": 120,
   "id": "d1e05612",
   "metadata": {},
   "outputs": [
    {
     "data": {
      "text/plain": [
       "array([[6, 1, 2, 7, 3, 6],\n",
       "       [6, 2, 6, 2, 7, 7],\n",
       "       [4, 0, 0, 6, 6, 3],\n",
       "       [0, 5, 4, 3, 7, 6]])"
      ]
     },
     "execution_count": 120,
     "metadata": {},
     "output_type": "execute_result"
    }
   ],
   "source": [
    "arr1"
   ]
  },
  {
   "cell_type": "code",
   "execution_count": 121,
   "id": "88142611",
   "metadata": {},
   "outputs": [
    {
     "data": {
      "text/plain": [
       "array([[1.+0.j, 2.+0.j, 3.+0.j, 6.+0.j, 6.+0.j, 7.+0.j],\n",
       "       [2.+0.j, 2.+0.j, 6.+0.j, 6.+0.j, 7.+0.j, 7.+0.j],\n",
       "       [0.+0.j, 0.+0.j, 3.+0.j, 4.+0.j, 6.+0.j, 6.+0.j],\n",
       "       [0.+0.j, 3.+0.j, 4.+0.j, 5.+0.j, 6.+0.j, 7.+0.j]])"
      ]
     },
     "execution_count": 121,
     "metadata": {},
     "output_type": "execute_result"
    }
   ],
   "source": [
    "np.sort_complex(arr1)"
   ]
  },
  {
   "cell_type": "code",
   "execution_count": 136,
   "id": "255ea6b2",
   "metadata": {},
   "outputs": [
    {
     "name": "stdout",
     "output_type": "stream",
     "text": [
      "[[19 36  4 31]\n",
      " [35 39 36 22]\n",
      " [21 22 29 30]\n",
      " [12 49 49 33]\n",
      " [22 29 25 13]]\n"
     ]
    }
   ],
   "source": [
    "a1 = np.random.randint(1,50,size=(5,4))\n",
    "print(a1)"
   ]
  },
  {
   "cell_type": "code",
   "execution_count": 139,
   "id": "5fd5ffdf",
   "metadata": {},
   "outputs": [
    {
     "data": {
      "text/plain": [
       "array([['Odd', 'even', 'even', 'Odd'],\n",
       "       ['Odd', 'Odd', 'even', 'even'],\n",
       "       ['Odd', 'even', 'Odd', 'even'],\n",
       "       ['even', 'Odd', 'Odd', 'Odd'],\n",
       "       ['even', 'Odd', 'Odd', 'Odd']], dtype='<U4')"
      ]
     },
     "execution_count": 139,
     "metadata": {},
     "output_type": "execute_result"
    }
   ],
   "source": [
    "np.where(a1%2==0,'even','Odd')"
   ]
  },
  {
   "cell_type": "code",
   "execution_count": 137,
   "id": "3a460791",
   "metadata": {},
   "outputs": [
    {
     "data": {
      "text/plain": [
       "array([['odd', '36', '4', 'odd'],\n",
       "       ['odd', 'odd', '36', '22'],\n",
       "       ['odd', '22', 'odd', '30'],\n",
       "       ['12', 'odd', 'odd', 'odd'],\n",
       "       ['22', 'odd', 'odd', 'odd']], dtype='<U11')"
      ]
     },
     "execution_count": 137,
     "metadata": {},
     "output_type": "execute_result"
    }
   ],
   "source": []
  },
  {
   "cell_type": "code",
   "execution_count": null,
   "id": "8ada96f6",
   "metadata": {},
   "outputs": [],
   "source": []
  }
 ],
 "metadata": {
  "kernelspec": {
   "display_name": "Python 3 (ipykernel)",
   "language": "python",
   "name": "python3"
  },
  "language_info": {
   "codemirror_mode": {
    "name": "ipython",
    "version": 3
   },
   "file_extension": ".py",
   "mimetype": "text/x-python",
   "name": "python",
   "nbconvert_exporter": "python",
   "pygments_lexer": "ipython3",
   "version": "3.9.12"
  }
 },
 "nbformat": 4,
 "nbformat_minor": 5
}
